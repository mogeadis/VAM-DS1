{
 "cells": [
  {
   "cell_type": "markdown",
   "metadata": {},
   "source": [
    "---\n",
    "\n",
    "***Filename***: ss_matrices.ipynb\n",
    "\n",
    "---\n",
    "\n",
    "***Description***: This notebook computes the matrices for the state-space model of the *Boss DS-1* **Transistor Amplifier** stage\n",
    "\n",
    "---\n",
    "***Author***: Alexandros Iliadis\n",
    "\n",
    "\n",
    "***Project***: MSc Thesis\n",
    "\n",
    "***Date***: June 2025\n",
    "\n",
    "---"
   ]
  },
  {
   "cell_type": "markdown",
   "metadata": {},
   "source": [
    "### Execution Initialization"
   ]
  },
  {
   "cell_type": "code",
   "execution_count": 1,
   "metadata": {},
   "outputs": [
    {
     "name": "stdout",
     "output_type": "stream",
     "text": [
      "====================================================================================================\n",
      "                      Executing File: ssm_matrices.ipynb | 25/06/2025 17:29:45\n",
      "====================================================================================================\n"
     ]
    }
   ],
   "source": [
    "# Import Modules (Built-In)\n",
    "import os\n",
    "import sys\n",
    "import time\n",
    "\n",
    "# Import Modules (User-Defined)\n",
    "sys.path.append(os.path.abspath('Modules'))\n",
    "import symbolic as sym\n",
    "import utilities as utils\n",
    "\n",
    "# Import Modules (Third-Party)\n",
    "import sympy as sp\n",
    "from IPython.display import display\n",
    "from IPython.display import Markdown as MD\n",
    "\n",
    "# Start Timer\n",
    "start_time = time.perf_counter()\n",
    "utils.printHeader(\"ssm_matrices.ipynb\",line_break = False)"
   ]
  },
  {
   "cell_type": "markdown",
   "metadata": {},
   "source": [
    "### Circuit Topology Description"
   ]
  },
  {
   "cell_type": "code",
   "execution_count": 2,
   "metadata": {},
   "outputs": [
    {
     "data": {
      "text/markdown": [
       "---"
      ],
      "text/plain": [
       "<IPython.core.display.Markdown object>"
      ]
     },
     "metadata": {},
     "output_type": "display_data"
    },
    {
     "data": {
      "text/markdown": [
       "Resistors:"
      ],
      "text/plain": [
       "<IPython.core.display.Markdown object>"
      ]
     },
     "metadata": {},
     "output_type": "display_data"
    },
    {
     "data": {
      "text/latex": [
       "$\\displaystyle R_{6} = 100000.0$"
      ],
      "text/plain": [
       "Eq(R_6, 100000.0)"
      ]
     },
     "metadata": {},
     "output_type": "display_data"
    },
    {
     "data": {
      "text/latex": [
       "$\\displaystyle R_{7} = 470000.0$"
      ],
      "text/plain": [
       "Eq(R_7, 470000.0)"
      ]
     },
     "metadata": {},
     "output_type": "display_data"
    },
    {
     "data": {
      "text/latex": [
       "$\\displaystyle R_{8} = 10000.0$"
      ],
      "text/plain": [
       "Eq(R_8, 10000.0)"
      ]
     },
     "metadata": {},
     "output_type": "display_data"
    },
    {
     "data": {
      "text/latex": [
       "$\\displaystyle R_{9} = 22$"
      ],
      "text/plain": [
       "Eq(R_9, 22)"
      ]
     },
     "metadata": {},
     "output_type": "display_data"
    },
    {
     "data": {
      "text/latex": [
       "$\\displaystyle R_{10} = 100000.0$"
      ],
      "text/plain": [
       "Eq(R_10, 100000.0)"
      ]
     },
     "metadata": {},
     "output_type": "display_data"
    },
    {
     "data": {
      "text/markdown": [
       "---"
      ],
      "text/plain": [
       "<IPython.core.display.Markdown object>"
      ]
     },
     "metadata": {},
     "output_type": "display_data"
    },
    {
     "data": {
      "text/markdown": [
       "Conductances:"
      ],
      "text/plain": [
       "<IPython.core.display.Markdown object>"
      ]
     },
     "metadata": {},
     "output_type": "display_data"
    },
    {
     "data": {
      "text/latex": [
       "$\\displaystyle G_{6} = \\frac{1}{R_{6}}$"
      ],
      "text/plain": [
       "Eq(G_6, 1/R_6)"
      ]
     },
     "metadata": {},
     "output_type": "display_data"
    },
    {
     "data": {
      "text/latex": [
       "$\\displaystyle G_{7} = \\frac{1}{R_{7}}$"
      ],
      "text/plain": [
       "Eq(G_7, 1/R_7)"
      ]
     },
     "metadata": {},
     "output_type": "display_data"
    },
    {
     "data": {
      "text/latex": [
       "$\\displaystyle G_{8} = \\frac{1}{R_{8}}$"
      ],
      "text/plain": [
       "Eq(G_8, 1/R_8)"
      ]
     },
     "metadata": {},
     "output_type": "display_data"
    },
    {
     "data": {
      "text/latex": [
       "$\\displaystyle G_{9} = \\frac{1}{R_{9}}$"
      ],
      "text/plain": [
       "Eq(G_9, 1/R_9)"
      ]
     },
     "metadata": {},
     "output_type": "display_data"
    },
    {
     "data": {
      "text/latex": [
       "$\\displaystyle G_{10} = \\frac{1}{R_{10}}$"
      ],
      "text/plain": [
       "Eq(G_10, 1/R_10)"
      ]
     },
     "metadata": {},
     "output_type": "display_data"
    },
    {
     "data": {
      "text/markdown": [
       "---"
      ],
      "text/plain": [
       "<IPython.core.display.Markdown object>"
      ]
     },
     "metadata": {},
     "output_type": "display_data"
    },
    {
     "data": {
      "text/markdown": [
       "Capacitors:"
      ],
      "text/plain": [
       "<IPython.core.display.Markdown object>"
      ]
     },
     "metadata": {},
     "output_type": "display_data"
    },
    {
     "data": {
      "text/latex": [
       "$\\displaystyle C_{3} = 4.7 \\cdot 10^{-8}$"
      ],
      "text/plain": [
       "Eq(C_3, 4.7e-8)"
      ]
     },
     "metadata": {},
     "output_type": "display_data"
    },
    {
     "data": {
      "text/latex": [
       "$\\displaystyle C_{4} = 2.5 \\cdot 10^{-10}$"
      ],
      "text/plain": [
       "Eq(C_4, 2.5e-10)"
      ]
     },
     "metadata": {},
     "output_type": "display_data"
    },
    {
     "data": {
      "text/latex": [
       "$\\displaystyle C_{5} = 6.8 \\cdot 10^{-8}$"
      ],
      "text/plain": [
       "Eq(C_5, 6.8e-8)"
      ]
     },
     "metadata": {},
     "output_type": "display_data"
    },
    {
     "data": {
      "text/markdown": [
       "---"
      ],
      "text/plain": [
       "<IPython.core.display.Markdown object>"
      ]
     },
     "metadata": {},
     "output_type": "display_data"
    },
    {
     "data": {
      "text/markdown": [
       "Nonlinear Currents:"
      ],
      "text/plain": [
       "<IPython.core.display.Markdown object>"
      ]
     },
     "metadata": {},
     "output_type": "display_data"
    },
    {
     "data": {
      "text/latex": [
       "$\\displaystyle I_{e} = I_{b} + I_{c}$"
      ],
      "text/plain": [
       "Eq(I_e, I_b + I_c)"
      ]
     },
     "metadata": {},
     "output_type": "display_data"
    },
    {
     "data": {
      "text/markdown": [
       "---"
      ],
      "text/plain": [
       "<IPython.core.display.Markdown object>"
      ]
     },
     "metadata": {},
     "output_type": "display_data"
    },
    {
     "data": {
      "text/markdown": [
       "Controlling Voltages:"
      ],
      "text/plain": [
       "<IPython.core.display.Markdown object>"
      ]
     },
     "metadata": {},
     "output_type": "display_data"
    },
    {
     "data": {
      "text/latex": [
       "$\\displaystyle V_{be} = V_{b} - V_{e}$"
      ],
      "text/plain": [
       "Eq(V_be, V_b - V_e)"
      ]
     },
     "metadata": {},
     "output_type": "display_data"
    },
    {
     "data": {
      "text/latex": [
       "$\\displaystyle V_{bc} = V_{b} - V_{c}$"
      ],
      "text/plain": [
       "Eq(V_bc, V_b - V_c)"
      ]
     },
     "metadata": {},
     "output_type": "display_data"
    },
    {
     "data": {
      "text/markdown": [
       "---"
      ],
      "text/plain": [
       "<IPython.core.display.Markdown object>"
      ]
     },
     "metadata": {},
     "output_type": "display_data"
    },
    {
     "data": {
      "text/markdown": [
       "System Equations:"
      ],
      "text/plain": [
       "<IPython.core.display.Markdown object>"
      ]
     },
     "metadata": {},
     "output_type": "display_data"
    },
    {
     "data": {
      "text/latex": [
       "$\\displaystyle C_{5} \\dot{V}_{C_{5}} = G_{10} V_{out}$"
      ],
      "text/plain": [
       "Eq(C_5*\\dot{V}_{C_{5}}, G_10*V_out)"
      ]
     },
     "metadata": {},
     "output_type": "display_data"
    },
    {
     "data": {
      "text/latex": [
       "$\\displaystyle C_{4} \\dot{V}_{C_{4}} + G_{7} \\left(V_{b} - V_{c}\\right) + G_{8} \\left(- V_{c} + V_{p}\\right) = C_{5} \\dot{V}_{C_{5}} + I_{c}$"
      ],
      "text/plain": [
       "Eq(C_4*\\dot{V}_{C_{4}} + G_7*(V_b - V_c) + G_8*(-V_c + V_p), C_5*\\dot{V}_{C_{5}} + I_c)"
      ]
     },
     "metadata": {},
     "output_type": "display_data"
    },
    {
     "data": {
      "text/latex": [
       "$\\displaystyle I_{e} = G_{9} V_{e}$"
      ],
      "text/plain": [
       "Eq(I_e, G_9*V_e)"
      ]
     },
     "metadata": {},
     "output_type": "display_data"
    },
    {
     "data": {
      "text/latex": [
       "$\\displaystyle C_{3} \\dot{V}_{C_{3}} = C_{4} \\dot{V}_{C_{4}} + G_{6} V_{b} + G_{7} \\left(V_{b} - V_{c}\\right) + I_{b}$"
      ],
      "text/plain": [
       "Eq(C_3*\\dot{V}_{C_{3}}, C_4*\\dot{V}_{C_{4}} + G_6*V_b + G_7*(V_b - V_c) + I_b)"
      ]
     },
     "metadata": {},
     "output_type": "display_data"
    },
    {
     "data": {
      "text/latex": [
       "$\\displaystyle V_{p} = V_{CC}$"
      ],
      "text/plain": [
       "Eq(V_p, V_CC)"
      ]
     },
     "metadata": {},
     "output_type": "display_data"
    },
    {
     "data": {
      "text/latex": [
       "$\\displaystyle V_{s} = V_{in}$"
      ],
      "text/plain": [
       "Eq(V_s, V_in)"
      ]
     },
     "metadata": {},
     "output_type": "display_data"
    },
    {
     "data": {
      "text/latex": [
       "$\\displaystyle V_{C_{3}} = - V_{b} + V_{s}$"
      ],
      "text/plain": [
       "Eq(V_{C_{3}}, -V_b + V_s)"
      ]
     },
     "metadata": {},
     "output_type": "display_data"
    },
    {
     "data": {
      "text/latex": [
       "$\\displaystyle V_{C_{4}} = V_{b} - V_{c}$"
      ],
      "text/plain": [
       "Eq(V_{C_{4}}, V_b - V_c)"
      ]
     },
     "metadata": {},
     "output_type": "display_data"
    },
    {
     "data": {
      "text/latex": [
       "$\\displaystyle V_{C_{5}} = V_{c} - V_{out}$"
      ],
      "text/plain": [
       "Eq(V_{C_{5}}, V_c - V_out)"
      ]
     },
     "metadata": {},
     "output_type": "display_data"
    },
    {
     "data": {
      "text/latex": [
       "$\\displaystyle I_{CC} = G_{8} \\left(- V_{c} + V_{p}\\right)$"
      ],
      "text/plain": [
       "Eq(I_CC, G_8*(-V_c + V_p))"
      ]
     },
     "metadata": {},
     "output_type": "display_data"
    },
    {
     "data": {
      "text/latex": [
       "$\\displaystyle I_{in} = C_{3} \\dot{V}_{C_{3}}$"
      ],
      "text/plain": [
       "Eq(I_in, C_3*\\dot{V}_{C_{3}})"
      ]
     },
     "metadata": {},
     "output_type": "display_data"
    },
    {
     "data": {
      "text/markdown": [
       "---"
      ],
      "text/plain": [
       "<IPython.core.display.Markdown object>"
      ]
     },
     "metadata": {},
     "output_type": "display_data"
    }
   ],
   "source": [
    "# Input Sources\n",
    "Vin,Iin = sp.symbols('V_in,I_in')\n",
    "Vcc,Icc = sp.symbols('V_CC,I_CC')\n",
    "\n",
    "# Resistors\n",
    "R6,R7,R8,R9,R10 = sp.symbols('R_6,R_7,R_8,R_9,R_10')\n",
    "R6_eq = sp.Eq(R6,100e3)\n",
    "R7_eq = sp.Eq(R7,470e3)\n",
    "R8_eq = sp.Eq(R8,10e3)\n",
    "R9_eq = sp.Eq(R9,22)\n",
    "R10_eq = sp.Eq(R10,100e3)\n",
    "resistors = [R6_eq,R7_eq,R8_eq,R9_eq,R10_eq]\n",
    "\n",
    "# Conductances\n",
    "G6,G7,G8,G9,G10 = sp.symbols('G_6,G_7,G_8,G_9,G_10')\n",
    "G6_eq = sp.Eq(G6,1/R6)\n",
    "G7_eq = sp.Eq(G7,1/R7)\n",
    "G8_eq = sp.Eq(G8,1/R8)\n",
    "G9_eq = sp.Eq(G9,1/R9)\n",
    "G10_eq = sp.Eq(G10,1/R10)\n",
    "conductances = [G6_eq,G7_eq,G8_eq,G9_eq,G10_eq]\n",
    "\n",
    "# Capacitors\n",
    "C3,C4,C5 = sp.symbols('C_3,C_4,C_5')\n",
    "C3_eq = sp.Eq(C3,47e-9)\n",
    "C4_eq = sp.Eq(C4,250e-12)\n",
    "C5_eq = sp.Eq(C5,68e-9)\n",
    "capacitors = [C3_eq,C4_eq,C5_eq]\n",
    "\n",
    "# States\n",
    "V_C3,V_C4,V_C5 = sp.symbols('V_{C_{3}},V_{C_{4}},V_{C_{5}}')\n",
    "x = [V_C3,V_C4,V_C5]\n",
    "V_C3_dot,V_C4_dot,V_C5_dot = sp.symbols('\\\\dot{V}_{C_{3}},\\\\dot{V}_{C_{4}},\\\\dot{V}_{C_{5}}')\n",
    "x_dot = [V_C3_dot,V_C4_dot,V_C5_dot]\n",
    "\n",
    "# Node Voltages\n",
    "Vout,Vc,Vb,Ve,Vp,Vs = sp.symbols('V_out,V_c,V_b,V_e,V_p,V_s')\n",
    "V = [Vout,Vs,Vp,Vc,Vb,Ve,Iin,Icc,V_C3_dot,V_C4_dot,V_C5_dot]\n",
    "\n",
    "# Nonlinear Currents\n",
    "Ic,Ib,Ie = sp.symbols('I_c,I_b,I_e')\n",
    "Ie_eq = sp.Eq(Ie,Ib + Ic)\n",
    "nonlinear_currents = [Ie_eq]\n",
    "\n",
    "# Controlling Voltages\n",
    "Vbe,Vbc = sp.symbols('V_be,V_bc')\n",
    "Vbe_eq = sp.Eq(Vbe,Vb - Ve)\n",
    "Vbc_eq = sp.Eq(Vbc,Vb - Vc)\n",
    "controlling_voltages = [Vbe_eq,Vbc_eq]\n",
    "\n",
    "# State-Space Vectors\n",
    "x_dot = [V_C3_dot,V_C4_dot,V_C5_dot]\n",
    "x = [V_C3,V_C4,V_C5]\n",
    "u = [Vin,Vcc]\n",
    "v = [Vbe,Vbc]\n",
    "i = [Ib,Ic]\n",
    "y = [Vout]\n",
    "\n",
    "# System Equations\n",
    "eq1 = sp.Eq(C5*V_C5_dot,Vout*G10)\n",
    "eq2 = sp.Eq((Vp - Vc)*G8 + C4*V_C4_dot + (Vb - Vc)*G7,C5*V_C5_dot + Ic)\n",
    "eq3 = sp.Eq(Ie,Ve*G9)\n",
    "eq4 = sp.Eq(C3*V_C3_dot,Vb*G6 + C4*V_C4_dot + (Vb - Vc)*G7 + Ib)\n",
    "eq5 = sp.Eq(Vp,Vcc)\n",
    "eq6 = sp.Eq(Vs,Vin)\n",
    "eq7 = sp.Eq(V_C3,Vs - Vb)\n",
    "eq8 = sp.Eq(V_C4,Vb - Vc)\n",
    "eq9 = sp.Eq(V_C5,Vc - Vout)\n",
    "eq10 = sp.Eq(Icc,(Vp - Vc)*G8)\n",
    "eq11 = sp.Eq(Iin,C3*V_C3_dot)\n",
    "system_equations = [eq1,eq2,eq3,eq4,eq5,eq6,eq7,eq8,eq9,eq10,eq11]\n",
    "\n",
    "# Cell Output\n",
    "display(MD(\"---\"))\n",
    "display(MD(\"Resistors:\"))\n",
    "for element in resistors:\n",
    "    display(element)\n",
    "display(MD(\"---\"))\n",
    "display(MD(\"Conductances:\"))\n",
    "for element in conductances:\n",
    "    display(element)\n",
    "display(MD(\"---\"))\n",
    "display(MD(\"Capacitors:\"))\n",
    "for element in capacitors:\n",
    "    display(element)\n",
    "display(MD(\"---\"))\n",
    "display(MD(\"Nonlinear Currents:\"))\n",
    "for element in nonlinear_currents:\n",
    "    display(element)\n",
    "display(MD(\"---\"))\n",
    "display(MD(\"Controlling Voltages:\"))\n",
    "for element in controlling_voltages:\n",
    "    display(element)\n",
    "display(MD(\"---\"))\n",
    "display(MD(\"System Equations:\"))\n",
    "for eq in system_equations:\n",
    "    display(eq)\n",
    "display(MD(\"---\"))"
   ]
  },
  {
   "cell_type": "markdown",
   "metadata": {},
   "source": [
    "### Modified Nodal Analysis"
   ]
  },
  {
   "cell_type": "code",
   "execution_count": 3,
   "metadata": {},
   "outputs": [
    {
     "data": {
      "text/markdown": [
       "---"
      ],
      "text/plain": [
       "<IPython.core.display.Markdown object>"
      ]
     },
     "metadata": {},
     "output_type": "display_data"
    },
    {
     "data": {
      "text/markdown": [
       "Matrix G:"
      ],
      "text/plain": [
       "<IPython.core.display.Markdown object>"
      ]
     },
     "metadata": {},
     "output_type": "display_data"
    },
    {
     "data": {
      "text/latex": [
       "$\\displaystyle \\left[\\begin{array}{ccccccccccc}- G_{10} & 0 & 0 & 0 & 0 & 0 & 0 & 0 & 0 & 0 & C_{5}\\\\0 & 0 & G_{8} & - G_{7} - G_{8} & G_{7} & 0 & 0 & 0 & 0 & C_{4} & - C_{5}\\\\0 & 0 & 0 & 0 & 0 & G_{9} & 0 & 0 & 0 & 0 & 0\\\\0 & 0 & 0 & G_{7} & - G_{6} - G_{7} & 0 & 0 & 0 & C_{3} & - C_{4} & 0\\\\0 & 0 & 1 & 0 & 0 & 0 & 0 & 0 & 0 & 0 & 0\\\\0 & 1 & 0 & 0 & 0 & 0 & 0 & 0 & 0 & 0 & 0\\\\0 & 1 & 0 & 0 & -1 & 0 & 0 & 0 & 0 & 0 & 0\\\\0 & 0 & 0 & -1 & 1 & 0 & 0 & 0 & 0 & 0 & 0\\\\-1 & 0 & 0 & 1 & 0 & 0 & 0 & 0 & 0 & 0 & 0\\\\0 & 0 & - G_{8} & G_{8} & 0 & 0 & 0 & 1 & 0 & 0 & 0\\\\0 & 0 & 0 & 0 & 0 & 0 & 1 & 0 & - C_{3} & 0 & 0\\end{array}\\right]$"
      ],
      "text/plain": [
       "Matrix([\n",
       "[-G_10, 0,    0,          0,          0,   0, 0, 0,    0,    0,  C_5],\n",
       "[    0, 0,  G_8, -G_7 - G_8,        G_7,   0, 0, 0,    0,  C_4, -C_5],\n",
       "[    0, 0,    0,          0,          0, G_9, 0, 0,    0,    0,    0],\n",
       "[    0, 0,    0,        G_7, -G_6 - G_7,   0, 0, 0,  C_3, -C_4,    0],\n",
       "[    0, 0,    1,          0,          0,   0, 0, 0,    0,    0,    0],\n",
       "[    0, 1,    0,          0,          0,   0, 0, 0,    0,    0,    0],\n",
       "[    0, 1,    0,          0,         -1,   0, 0, 0,    0,    0,    0],\n",
       "[    0, 0,    0,         -1,          1,   0, 0, 0,    0,    0,    0],\n",
       "[   -1, 0,    0,          1,          0,   0, 0, 0,    0,    0,    0],\n",
       "[    0, 0, -G_8,        G_8,          0,   0, 0, 1,    0,    0,    0],\n",
       "[    0, 0,    0,          0,          0,   0, 1, 0, -C_3,    0,    0]])"
      ]
     },
     "metadata": {},
     "output_type": "display_data"
    },
    {
     "data": {
      "text/markdown": [
       "Vector V:"
      ],
      "text/plain": [
       "<IPython.core.display.Markdown object>"
      ]
     },
     "metadata": {},
     "output_type": "display_data"
    },
    {
     "data": {
      "text/latex": [
       "$\\displaystyle \\left[\\begin{matrix}V_{out}\\\\V_{s}\\\\V_{p}\\\\V_{c}\\\\V_{b}\\\\V_{e}\\\\I_{in}\\\\I_{CC}\\\\\\dot{V}_{C_{3}}\\\\\\dot{V}_{C_{4}}\\\\\\dot{V}_{C_{5}}\\end{matrix}\\right]$"
      ],
      "text/plain": [
       "Matrix([\n",
       "[          V_out],\n",
       "[            V_s],\n",
       "[            V_p],\n",
       "[            V_c],\n",
       "[            V_b],\n",
       "[            V_e],\n",
       "[           I_in],\n",
       "[           I_CC],\n",
       "[\\dot{V}_{C_{3}}],\n",
       "[\\dot{V}_{C_{4}}],\n",
       "[\\dot{V}_{C_{5}}]])"
      ]
     },
     "metadata": {},
     "output_type": "display_data"
    },
    {
     "data": {
      "text/markdown": [
       "Vector I:"
      ],
      "text/plain": [
       "<IPython.core.display.Markdown object>"
      ]
     },
     "metadata": {},
     "output_type": "display_data"
    },
    {
     "data": {
      "text/latex": [
       "$\\displaystyle \\left[\\begin{matrix}0\\\\I_{c}\\\\I_{e}\\\\I_{b}\\\\V_{CC}\\\\V_{in}\\\\V_{C_{3}}\\\\V_{C_{4}}\\\\V_{C_{5}}\\\\0\\\\0\\end{matrix}\\right]$"
      ],
      "text/plain": [
       "Matrix([\n",
       "[        0],\n",
       "[      I_c],\n",
       "[      I_e],\n",
       "[      I_b],\n",
       "[     V_CC],\n",
       "[     V_in],\n",
       "[V_{C_{3}}],\n",
       "[V_{C_{4}}],\n",
       "[V_{C_{5}}],\n",
       "[        0],\n",
       "[        0]])"
      ]
     },
     "metadata": {},
     "output_type": "display_data"
    },
    {
     "data": {
      "text/markdown": [
       "---"
      ],
      "text/plain": [
       "<IPython.core.display.Markdown object>"
      ]
     },
     "metadata": {},
     "output_type": "display_data"
    },
    {
     "data": {
      "text/markdown": [
       "System Solution:"
      ],
      "text/plain": [
       "<IPython.core.display.Markdown object>"
      ]
     },
     "metadata": {},
     "output_type": "display_data"
    },
    {
     "data": {
      "text/latex": [
       "$\\displaystyle V_{out} = V_{in} - V_{C_{3}} - V_{C_{4}} - V_{C_{5}}$"
      ],
      "text/plain": [
       "Eq(V_out, V_in - V_{C_{3}} - V_{C_{4}} - V_{C_{5}})"
      ]
     },
     "metadata": {},
     "output_type": "display_data"
    },
    {
     "data": {
      "text/latex": [
       "$\\displaystyle V_{s} = V_{in}$"
      ],
      "text/plain": [
       "Eq(V_s, V_in)"
      ]
     },
     "metadata": {},
     "output_type": "display_data"
    },
    {
     "data": {
      "text/latex": [
       "$\\displaystyle V_{p} = V_{CC}$"
      ],
      "text/plain": [
       "Eq(V_p, V_CC)"
      ]
     },
     "metadata": {},
     "output_type": "display_data"
    },
    {
     "data": {
      "text/latex": [
       "$\\displaystyle V_{c} = V_{in} - V_{C_{3}} - V_{C_{4}}$"
      ],
      "text/plain": [
       "Eq(V_c, V_in - V_{C_{3}} - V_{C_{4}})"
      ]
     },
     "metadata": {},
     "output_type": "display_data"
    },
    {
     "data": {
      "text/latex": [
       "$\\displaystyle V_{b} = V_{in} - V_{C_{3}}$"
      ],
      "text/plain": [
       "Eq(V_b, V_in - V_{C_{3}})"
      ]
     },
     "metadata": {},
     "output_type": "display_data"
    },
    {
     "data": {
      "text/latex": [
       "$\\displaystyle V_{e} = \\frac{I_{e}}{G_{9}}$"
      ],
      "text/plain": [
       "Eq(V_e, I_e/G_9)"
      ]
     },
     "metadata": {},
     "output_type": "display_data"
    },
    {
     "data": {
      "text/latex": [
       "$\\displaystyle I_{in} = G_{10} V_{in} - G_{10} V_{C_{3}} - G_{10} V_{C_{4}} - G_{10} V_{C_{5}} + G_{6} V_{in} - G_{6} V_{C_{3}} - G_{8} V_{CC} + G_{8} V_{in} - G_{8} V_{C_{3}} - G_{8} V_{C_{4}} + I_{b} + I_{c}$"
      ],
      "text/plain": [
       "Eq(I_in, G_10*V_in - G_10*V_{C_{3}} - G_10*V_{C_{4}} - G_10*V_{C_{5}} + G_6*V_in - G_6*V_{C_{3}} - G_8*V_CC + G_8*V_in - G_8*V_{C_{3}} - G_8*V_{C_{4}} + I_b + I_c)"
      ]
     },
     "metadata": {},
     "output_type": "display_data"
    },
    {
     "data": {
      "text/latex": [
       "$\\displaystyle I_{CC} = G_{8} \\left(V_{CC} - V_{in} + V_{C_{3}} + V_{C_{4}}\\right)$"
      ],
      "text/plain": [
       "Eq(I_CC, G_8*(V_CC - V_in + V_{C_{3}} + V_{C_{4}}))"
      ]
     },
     "metadata": {},
     "output_type": "display_data"
    },
    {
     "data": {
      "text/latex": [
       "$\\displaystyle \\dot{V}_{C_{3}} = \\frac{G_{10} V_{in} - G_{10} V_{C_{3}} - G_{10} V_{C_{4}} - G_{10} V_{C_{5}} + G_{6} V_{in} - G_{6} V_{C_{3}} - G_{8} V_{CC} + G_{8} V_{in} - G_{8} V_{C_{3}} - G_{8} V_{C_{4}} + I_{b} + I_{c}}{C_{3}}$"
      ],
      "text/plain": [
       "Eq(\\dot{V}_{C_{3}}, (G_10*V_in - G_10*V_{C_{3}} - G_10*V_{C_{4}} - G_10*V_{C_{5}} + G_6*V_in - G_6*V_{C_{3}} - G_8*V_CC + G_8*V_in - G_8*V_{C_{3}} - G_8*V_{C_{4}} + I_b + I_c)/C_3)"
      ]
     },
     "metadata": {},
     "output_type": "display_data"
    },
    {
     "data": {
      "text/latex": [
       "$\\displaystyle \\dot{V}_{C_{4}} = \\frac{G_{10} V_{in} - G_{10} V_{C_{3}} - G_{10} V_{C_{4}} - G_{10} V_{C_{5}} - G_{7} V_{C_{4}} - G_{8} V_{CC} + G_{8} V_{in} - G_{8} V_{C_{3}} - G_{8} V_{C_{4}} + I_{c}}{C_{4}}$"
      ],
      "text/plain": [
       "Eq(\\dot{V}_{C_{4}}, (G_10*V_in - G_10*V_{C_{3}} - G_10*V_{C_{4}} - G_10*V_{C_{5}} - G_7*V_{C_{4}} - G_8*V_CC + G_8*V_in - G_8*V_{C_{3}} - G_8*V_{C_{4}} + I_c)/C_4)"
      ]
     },
     "metadata": {},
     "output_type": "display_data"
    },
    {
     "data": {
      "text/latex": [
       "$\\displaystyle \\dot{V}_{C_{5}} = \\frac{G_{10} \\left(V_{in} - V_{C_{3}} - V_{C_{4}} - V_{C_{5}}\\right)}{C_{5}}$"
      ],
      "text/plain": [
       "Eq(\\dot{V}_{C_{5}}, G_10*(V_in - V_{C_{3}} - V_{C_{4}} - V_{C_{5}})/C_5)"
      ]
     },
     "metadata": {},
     "output_type": "display_data"
    },
    {
     "data": {
      "text/markdown": [
       "---"
      ],
      "text/plain": [
       "<IPython.core.display.Markdown object>"
      ]
     },
     "metadata": {},
     "output_type": "display_data"
    }
   ],
   "source": [
    "# System Matrices (GV = I)\n",
    "G,I = sym.systemToMatrixForm(system_equations,V)\n",
    "\n",
    "# System Solution\n",
    "system_solution = sym.solveLinearSystem(G,I,V)\n",
    "V_eq = sym.formEquations(V,system_solution)\n",
    "\n",
    "# Cell Output\n",
    "display(MD(\"---\"))\n",
    "display(MD(\"Matrix G:\"))\n",
    "display(G)\n",
    "display(MD(\"Vector V:\"))\n",
    "display(sp.Matrix(V))\n",
    "display(MD(\"Vector I:\"))\n",
    "display(I)\n",
    "display(MD(\"---\"))\n",
    "display(MD(\"System Solution:\"))\n",
    "for eq in V_eq:\n",
    "    display(eq)\n",
    "display(MD(\"---\"))"
   ]
  },
  {
   "cell_type": "markdown",
   "metadata": {},
   "source": [
    "### State-Space Representation"
   ]
  },
  {
   "cell_type": "code",
   "execution_count": 4,
   "metadata": {},
   "outputs": [
    {
     "data": {
      "text/markdown": [
       "---"
      ],
      "text/plain": [
       "<IPython.core.display.Markdown object>"
      ]
     },
     "metadata": {},
     "output_type": "display_data"
    },
    {
     "data": {
      "text/markdown": [
       "Matrix Ax:"
      ],
      "text/plain": [
       "<IPython.core.display.Markdown object>"
      ]
     },
     "metadata": {},
     "output_type": "display_data"
    },
    {
     "data": {
      "text/latex": [
       "$\\displaystyle \\left[\\begin{matrix}\\frac{- G_{10} - G_{6} - G_{8}}{C_{3}} & \\frac{- G_{10} - G_{8}}{C_{3}} & - \\frac{G_{10}}{C_{3}}\\\\\\frac{- G_{10} - G_{8}}{C_{4}} & \\frac{- G_{10} - G_{7} - G_{8}}{C_{4}} & - \\frac{G_{10}}{C_{4}}\\\\- \\frac{G_{10}}{C_{5}} & - \\frac{G_{10}}{C_{5}} & - \\frac{G_{10}}{C_{5}}\\end{matrix}\\right]$"
      ],
      "text/plain": [
       "Matrix([\n",
       "[(-G_10 - G_6 - G_8)/C_3,       (-G_10 - G_8)/C_3, -G_10/C_3],\n",
       "[      (-G_10 - G_8)/C_4, (-G_10 - G_7 - G_8)/C_4, -G_10/C_4],\n",
       "[              -G_10/C_5,               -G_10/C_5, -G_10/C_5]])"
      ]
     },
     "metadata": {},
     "output_type": "display_data"
    },
    {
     "data": {
      "text/markdown": [
       "Matrix Bx:"
      ],
      "text/plain": [
       "<IPython.core.display.Markdown object>"
      ]
     },
     "metadata": {},
     "output_type": "display_data"
    },
    {
     "data": {
      "text/latex": [
       "$\\displaystyle \\left[\\begin{matrix}\\frac{G_{10} + G_{6} + G_{8}}{C_{3}} & - \\frac{G_{8}}{C_{3}}\\\\\\frac{G_{10} + G_{8}}{C_{4}} & - \\frac{G_{8}}{C_{4}}\\\\\\frac{G_{10}}{C_{5}} & 0\\end{matrix}\\right]$"
      ],
      "text/plain": [
       "Matrix([\n",
       "[(G_10 + G_6 + G_8)/C_3, -G_8/C_3],\n",
       "[      (G_10 + G_8)/C_4, -G_8/C_4],\n",
       "[              G_10/C_5,        0]])"
      ]
     },
     "metadata": {},
     "output_type": "display_data"
    },
    {
     "data": {
      "text/markdown": [
       "Matrix Cx:"
      ],
      "text/plain": [
       "<IPython.core.display.Markdown object>"
      ]
     },
     "metadata": {},
     "output_type": "display_data"
    },
    {
     "data": {
      "text/latex": [
       "$\\displaystyle \\left[\\begin{matrix}\\frac{1}{C_{3}} & \\frac{1}{C_{3}}\\\\0 & \\frac{1}{C_{4}}\\\\0 & 0\\end{matrix}\\right]$"
      ],
      "text/plain": [
       "Matrix([\n",
       "[1/C_3, 1/C_3],\n",
       "[    0, 1/C_4],\n",
       "[    0,     0]])"
      ]
     },
     "metadata": {},
     "output_type": "display_data"
    },
    {
     "data": {
      "text/markdown": [
       "---"
      ],
      "text/plain": [
       "<IPython.core.display.Markdown object>"
      ]
     },
     "metadata": {},
     "output_type": "display_data"
    },
    {
     "data": {
      "text/markdown": [
       "Matrix Av:"
      ],
      "text/plain": [
       "<IPython.core.display.Markdown object>"
      ]
     },
     "metadata": {},
     "output_type": "display_data"
    },
    {
     "data": {
      "text/latex": [
       "$\\displaystyle \\left[\\begin{matrix}-1 & 0 & 0\\\\0 & 1 & 0\\end{matrix}\\right]$"
      ],
      "text/plain": [
       "Matrix([\n",
       "[-1, 0, 0],\n",
       "[ 0, 1, 0]])"
      ]
     },
     "metadata": {},
     "output_type": "display_data"
    },
    {
     "data": {
      "text/markdown": [
       "Matrix Bv:"
      ],
      "text/plain": [
       "<IPython.core.display.Markdown object>"
      ]
     },
     "metadata": {},
     "output_type": "display_data"
    },
    {
     "data": {
      "text/latex": [
       "$\\displaystyle \\left[\\begin{matrix}1 & 0\\\\0 & 0\\end{matrix}\\right]$"
      ],
      "text/plain": [
       "Matrix([\n",
       "[1, 0],\n",
       "[0, 0]])"
      ]
     },
     "metadata": {},
     "output_type": "display_data"
    },
    {
     "data": {
      "text/markdown": [
       "Matrix Cv:"
      ],
      "text/plain": [
       "<IPython.core.display.Markdown object>"
      ]
     },
     "metadata": {},
     "output_type": "display_data"
    },
    {
     "data": {
      "text/latex": [
       "$\\displaystyle \\left[\\begin{matrix}- \\frac{1}{G_{9}} & - \\frac{1}{G_{9}}\\\\0 & 0\\end{matrix}\\right]$"
      ],
      "text/plain": [
       "Matrix([\n",
       "[-1/G_9, -1/G_9],\n",
       "[     0,      0]])"
      ]
     },
     "metadata": {},
     "output_type": "display_data"
    },
    {
     "data": {
      "text/markdown": [
       "---"
      ],
      "text/plain": [
       "<IPython.core.display.Markdown object>"
      ]
     },
     "metadata": {},
     "output_type": "display_data"
    },
    {
     "data": {
      "text/markdown": [
       "Matrix Ay:"
      ],
      "text/plain": [
       "<IPython.core.display.Markdown object>"
      ]
     },
     "metadata": {},
     "output_type": "display_data"
    },
    {
     "data": {
      "text/latex": [
       "$\\displaystyle \\left[\\begin{matrix}-1 & -1 & -1\\end{matrix}\\right]$"
      ],
      "text/plain": [
       "Matrix([[-1, -1, -1]])"
      ]
     },
     "metadata": {},
     "output_type": "display_data"
    },
    {
     "data": {
      "text/markdown": [
       "Matrix By:"
      ],
      "text/plain": [
       "<IPython.core.display.Markdown object>"
      ]
     },
     "metadata": {},
     "output_type": "display_data"
    },
    {
     "data": {
      "text/latex": [
       "$\\displaystyle \\left[\\begin{matrix}1 & 0\\end{matrix}\\right]$"
      ],
      "text/plain": [
       "Matrix([[1, 0]])"
      ]
     },
     "metadata": {},
     "output_type": "display_data"
    },
    {
     "data": {
      "text/markdown": [
       "Matrix Cy:"
      ],
      "text/plain": [
       "<IPython.core.display.Markdown object>"
      ]
     },
     "metadata": {},
     "output_type": "display_data"
    },
    {
     "data": {
      "text/latex": [
       "$\\displaystyle \\left[\\begin{matrix}0 & 0\\end{matrix}\\right]$"
      ],
      "text/plain": [
       "Matrix([[0, 0]])"
      ]
     },
     "metadata": {},
     "output_type": "display_data"
    },
    {
     "data": {
      "text/markdown": [
       "---"
      ],
      "text/plain": [
       "<IPython.core.display.Markdown object>"
      ]
     },
     "metadata": {},
     "output_type": "display_data"
    }
   ],
   "source": [
    "# Nonlinear Current Substitutions\n",
    "V_eq = [sym.substituteSymbols(eq,nonlinear_currents) for eq in V_eq]\n",
    "\n",
    "# State Matrices\n",
    "x_dot_eq = sym.extractEquations(V_eq,x_dot)\n",
    "Ax,Bx,Cx = sym.kMethodMatrices(x_dot_eq,x,u,i)\n",
    "\n",
    "# Nonlinearity Matrices\n",
    "v_eq = []\n",
    "for symbol in v:\n",
    "    lhs = symbol\n",
    "    rhs = sym.substituteSymbols(lhs,controlling_voltages)\n",
    "    rhs = sym.substituteSymbols(rhs,sym.extractEquations(V_eq,rhs.free_symbols))\n",
    "    v_eq.append(sp.Eq(lhs,rhs))\n",
    "Av,Bv,Cv = sym.kMethodMatrices(v_eq,x,u,i)\n",
    "\n",
    "# Output Matrices\n",
    "y_eq = sym.extractEquations(V_eq,y)\n",
    "Ay,By,Cy = sym.kMethodMatrices(y_eq,x,u,i)\n",
    "\n",
    "# Cell Output\n",
    "display(MD(\"---\"))\n",
    "display(MD(\"Matrix Ax:\"))\n",
    "display(Ax)\n",
    "display(MD(\"Matrix Bx:\"))\n",
    "display(Bx)\n",
    "display(MD(\"Matrix Cx:\"))\n",
    "display(Cx)\n",
    "display(MD(\"---\"))\n",
    "display(MD(\"Matrix Av:\"))\n",
    "display(Av)\n",
    "display(MD(\"Matrix Bv:\"))\n",
    "display(Bv)\n",
    "display(MD(\"Matrix Cv:\"))\n",
    "display(Cv)\n",
    "display(MD(\"---\"))\n",
    "display(MD(\"Matrix Ay:\"))\n",
    "display(Ay)\n",
    "display(MD(\"Matrix By:\"))\n",
    "display(By)\n",
    "display(MD(\"Matrix Cy:\"))\n",
    "display(Cy)\n",
    "display(MD(\"---\"))"
   ]
  },
  {
   "cell_type": "code",
   "execution_count": 5,
   "metadata": {},
   "outputs": [
    {
     "data": {
      "text/markdown": [
       "---"
      ],
      "text/plain": [
       "<IPython.core.display.Markdown object>"
      ]
     },
     "metadata": {},
     "output_type": "display_data"
    },
    {
     "data": {
      "text/markdown": [
       "Matrix Ax (Evaluated):"
      ],
      "text/plain": [
       "<IPython.core.display.Markdown object>"
      ]
     },
     "metadata": {},
     "output_type": "display_data"
    },
    {
     "data": {
      "text/latex": [
       "$\\displaystyle \\left[\\begin{matrix}-2553.1914893617 & -2340.42553191489 & -212.765957446809\\\\-440000.0 & -448510.638297872 & -40000.0\\\\-147.058823529412 & -147.058823529412 & -147.058823529412\\end{matrix}\\right]$"
      ],
      "text/plain": [
       "Matrix([\n",
       "[ -2553.1914893617, -2340.42553191489, -212.765957446809],\n",
       "[        -440000.0, -448510.638297872,          -40000.0],\n",
       "[-147.058823529412, -147.058823529412, -147.058823529412]])"
      ]
     },
     "metadata": {},
     "output_type": "display_data"
    },
    {
     "data": {
      "text/markdown": [
       "Matrix Bx (Evaluated):"
      ],
      "text/plain": [
       "<IPython.core.display.Markdown object>"
      ]
     },
     "metadata": {},
     "output_type": "display_data"
    },
    {
     "data": {
      "text/latex": [
       "$\\displaystyle \\left[\\begin{matrix}2553.1914893617 & -2127.65957446809\\\\440000.0 & -400000.0\\\\147.058823529412 & 0\\end{matrix}\\right]$"
      ],
      "text/plain": [
       "Matrix([\n",
       "[ 2553.1914893617, -2127.65957446809],\n",
       "[        440000.0,         -400000.0],\n",
       "[147.058823529412,                 0]])"
      ]
     },
     "metadata": {},
     "output_type": "display_data"
    },
    {
     "data": {
      "text/markdown": [
       "Matrix Cx (Evaluated):"
      ],
      "text/plain": [
       "<IPython.core.display.Markdown object>"
      ]
     },
     "metadata": {},
     "output_type": "display_data"
    },
    {
     "data": {
      "text/latex": [
       "$\\displaystyle \\left[\\begin{matrix}21276595.7446809 & 21276595.7446809\\\\0 & 4000000000.0\\\\0 & 0\\end{matrix}\\right]$"
      ],
      "text/plain": [
       "Matrix([\n",
       "[21276595.7446809, 21276595.7446809],\n",
       "[               0,     4000000000.0],\n",
       "[               0,                0]])"
      ]
     },
     "metadata": {},
     "output_type": "display_data"
    },
    {
     "data": {
      "text/markdown": [
       "---"
      ],
      "text/plain": [
       "<IPython.core.display.Markdown object>"
      ]
     },
     "metadata": {},
     "output_type": "display_data"
    },
    {
     "data": {
      "text/markdown": [
       "Matrix Av (Evaluated):"
      ],
      "text/plain": [
       "<IPython.core.display.Markdown object>"
      ]
     },
     "metadata": {},
     "output_type": "display_data"
    },
    {
     "data": {
      "text/latex": [
       "$\\displaystyle \\left[\\begin{matrix}-1 & 0 & 0\\\\0 & 1 & 0\\end{matrix}\\right]$"
      ],
      "text/plain": [
       "Matrix([\n",
       "[-1, 0, 0],\n",
       "[ 0, 1, 0]])"
      ]
     },
     "metadata": {},
     "output_type": "display_data"
    },
    {
     "data": {
      "text/markdown": [
       "Matrix Bv (Evaluated):"
      ],
      "text/plain": [
       "<IPython.core.display.Markdown object>"
      ]
     },
     "metadata": {},
     "output_type": "display_data"
    },
    {
     "data": {
      "text/latex": [
       "$\\displaystyle \\left[\\begin{matrix}1 & 0\\\\0 & 0\\end{matrix}\\right]$"
      ],
      "text/plain": [
       "Matrix([\n",
       "[1, 0],\n",
       "[0, 0]])"
      ]
     },
     "metadata": {},
     "output_type": "display_data"
    },
    {
     "data": {
      "text/markdown": [
       "Matrix Cv (Evaluated):"
      ],
      "text/plain": [
       "<IPython.core.display.Markdown object>"
      ]
     },
     "metadata": {},
     "output_type": "display_data"
    },
    {
     "data": {
      "text/latex": [
       "$\\displaystyle \\left[\\begin{matrix}-22 & -22\\\\0 & 0\\end{matrix}\\right]$"
      ],
      "text/plain": [
       "Matrix([\n",
       "[-22, -22],\n",
       "[  0,   0]])"
      ]
     },
     "metadata": {},
     "output_type": "display_data"
    },
    {
     "data": {
      "text/markdown": [
       "---"
      ],
      "text/plain": [
       "<IPython.core.display.Markdown object>"
      ]
     },
     "metadata": {},
     "output_type": "display_data"
    },
    {
     "data": {
      "text/markdown": [
       "Matrix Ay (Evaluated):"
      ],
      "text/plain": [
       "<IPython.core.display.Markdown object>"
      ]
     },
     "metadata": {},
     "output_type": "display_data"
    },
    {
     "data": {
      "text/latex": [
       "$\\displaystyle \\left[\\begin{matrix}-1 & -1 & -1\\end{matrix}\\right]$"
      ],
      "text/plain": [
       "Matrix([[-1, -1, -1]])"
      ]
     },
     "metadata": {},
     "output_type": "display_data"
    },
    {
     "data": {
      "text/markdown": [
       "Matrix By (Evaluated):"
      ],
      "text/plain": [
       "<IPython.core.display.Markdown object>"
      ]
     },
     "metadata": {},
     "output_type": "display_data"
    },
    {
     "data": {
      "text/latex": [
       "$\\displaystyle \\left[\\begin{matrix}1 & 0\\end{matrix}\\right]$"
      ],
      "text/plain": [
       "Matrix([[1, 0]])"
      ]
     },
     "metadata": {},
     "output_type": "display_data"
    },
    {
     "data": {
      "text/markdown": [
       "Matrix Cy (Evaluated):"
      ],
      "text/plain": [
       "<IPython.core.display.Markdown object>"
      ]
     },
     "metadata": {},
     "output_type": "display_data"
    },
    {
     "data": {
      "text/latex": [
       "$\\displaystyle \\left[\\begin{matrix}0 & 0\\end{matrix}\\right]$"
      ],
      "text/plain": [
       "Matrix([[0, 0]])"
      ]
     },
     "metadata": {},
     "output_type": "display_data"
    },
    {
     "data": {
      "text/markdown": [
       "---"
      ],
      "text/plain": [
       "<IPython.core.display.Markdown object>"
      ]
     },
     "metadata": {},
     "output_type": "display_data"
    }
   ],
   "source": [
    "# Evaluate Expressions\n",
    "substitutions = conductances + resistors + capacitors\n",
    "Ax_eval = sym.substituteSymbols(Ax,substitutions)\n",
    "Bx_eval = sym.substituteSymbols(Bx,substitutions)\n",
    "Cx_eval = sym.substituteSymbols(Cx,substitutions)\n",
    "Av_eval = sym.substituteSymbols(Av,substitutions)\n",
    "Bv_eval = sym.substituteSymbols(Bv,substitutions)\n",
    "Cv_eval = sym.substituteSymbols(Cv,substitutions)\n",
    "Ay_eval = sym.substituteSymbols(Ay,substitutions)\n",
    "By_eval = sym.substituteSymbols(By,substitutions)\n",
    "Cy_eval = sym.substituteSymbols(Cy,substitutions)\n",
    "\n",
    "# Cell Output\n",
    "display(MD(\"---\"))\n",
    "display(MD(\"Matrix Ax (Evaluated):\"))\n",
    "display(Ax_eval)\n",
    "display(MD(\"Matrix Bx (Evaluated):\"))\n",
    "display(Bx_eval)\n",
    "display(MD(\"Matrix Cx (Evaluated):\"))\n",
    "display(Cx_eval)\n",
    "display(MD(\"---\"))\n",
    "display(MD(\"Matrix Av (Evaluated):\"))\n",
    "display(Av_eval)\n",
    "display(MD(\"Matrix Bv (Evaluated):\"))\n",
    "display(Bv_eval)\n",
    "display(MD(\"Matrix Cv (Evaluated):\"))\n",
    "display(Cv_eval)\n",
    "display(MD(\"---\"))\n",
    "display(MD(\"Matrix Ay (Evaluated):\"))\n",
    "display(Ay_eval)\n",
    "display(MD(\"Matrix By (Evaluated):\"))\n",
    "display(By_eval)\n",
    "display(MD(\"Matrix Cy (Evaluated):\"))\n",
    "display(Cy_eval)\n",
    "display(MD(\"---\"))"
   ]
  },
  {
   "cell_type": "markdown",
   "metadata": {},
   "source": [
    "### Execution Conclusion"
   ]
  },
  {
   "cell_type": "code",
   "execution_count": 6,
   "metadata": {},
   "outputs": [
    {
     "name": "stdout",
     "output_type": "stream",
     "text": [
      "====================================================================================================\n",
      "                          Execution Runtime: 1.837 s | 25/06/2025 17:29:47\n",
      "====================================================================================================\n"
     ]
    }
   ],
   "source": [
    "# End Timer\n",
    "runtime = utils.calculateElapsedTime(start_time,unit = 's')\n",
    "utils.printFooter(runtime,line_break = False)"
   ]
  }
 ],
 "metadata": {
  "kernelspec": {
   "display_name": "MTA-VAM",
   "language": "python",
   "name": "python3"
  },
  "language_info": {
   "codemirror_mode": {
    "name": "ipython",
    "version": 3
   },
   "file_extension": ".py",
   "mimetype": "text/x-python",
   "name": "python",
   "nbconvert_exporter": "python",
   "pygments_lexer": "ipython3",
   "version": "3.9.7"
  }
 },
 "nbformat": 4,
 "nbformat_minor": 2
}
