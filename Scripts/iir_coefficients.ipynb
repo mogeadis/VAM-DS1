{
 "cells": [
  {
   "cell_type": "markdown",
   "metadata": {},
   "source": [
    "---\n",
    "\n",
    "***Filename***: lti_coefficients.ipynb\n",
    "\n",
    "---\n",
    "\n",
    "***Description***: This notebook computes the coefficients for the IIR digital filter of the *Boss DS-1* **Passive Filter** stage\n",
    "\n",
    "---\n",
    "***Author***: Alexandros Iliadis\n",
    "\n",
    "\n",
    "***Project***: MSc Thesis\n",
    "\n",
    "***Date***: June 2025\n",
    "\n",
    "---"
   ]
  },
  {
   "cell_type": "markdown",
   "metadata": {},
   "source": [
    "### Execution Initialization"
   ]
  },
  {
   "cell_type": "code",
   "execution_count": 33,
   "metadata": {},
   "outputs": [
    {
     "name": "stdout",
     "output_type": "stream",
     "text": [
      "====================================================================================================\n",
      "                    Executing File: iir_coefficients.ipynb | 25/06/2025 18:46:11\n",
      "====================================================================================================\n"
     ]
    }
   ],
   "source": [
    "# Import Modules (Built-In)\n",
    "import os\n",
    "import sys\n",
    "import time\n",
    "\n",
    "# Import Modules (User-Defined)\n",
    "sys.path.append(os.path.abspath('Modules'))\n",
    "import symbolic as sym\n",
    "import utilities as utils\n",
    "\n",
    "# Import Modules (Third-Party)\n",
    "import sympy as sp\n",
    "from IPython.display import display\n",
    "from IPython.display import Markdown as MD\n",
    "\n",
    "# Start Timer\n",
    "start_time = time.perf_counter()\n",
    "utils.printHeader(\"iir_coefficients.ipynb\",line_break = False)"
   ]
  },
  {
   "cell_type": "markdown",
   "metadata": {},
   "source": [
    "### Circuit Topology Description"
   ]
  },
  {
   "cell_type": "code",
   "execution_count": 34,
   "metadata": {},
   "outputs": [
    {
     "data": {
      "text/markdown": [
       "---"
      ],
      "text/plain": [
       "<IPython.core.display.Markdown object>"
      ]
     },
     "metadata": {},
     "output_type": "display_data"
    },
    {
     "data": {
      "text/markdown": [
       "Resistors:"
      ],
      "text/plain": [
       "<IPython.core.display.Markdown object>"
      ]
     },
     "metadata": {},
     "output_type": "display_data"
    },
    {
     "data": {
      "text/latex": [
       "$\\displaystyle R_{15} = 2200.0$"
      ],
      "text/plain": [
       "Eq(R_15, 2200.0)"
      ]
     },
     "metadata": {},
     "output_type": "display_data"
    },
    {
     "data": {
      "text/latex": [
       "$\\displaystyle R_{16} = 6800.0$"
      ],
      "text/plain": [
       "Eq(R_16, 6800.0)"
      ]
     },
     "metadata": {},
     "output_type": "display_data"
    },
    {
     "data": {
      "text/latex": [
       "$\\displaystyle R_{17} = 6800.0$"
      ],
      "text/plain": [
       "Eq(R_17, 6800.0)"
      ]
     },
     "metadata": {},
     "output_type": "display_data"
    },
    {
     "data": {
      "text/latex": [
       "$\\displaystyle R_{tone} = 20000.0$"
      ],
      "text/plain": [
       "Eq(R_tone, 20000.0)"
      ]
     },
     "metadata": {},
     "output_type": "display_data"
    },
    {
     "data": {
      "text/latex": [
       "$\\displaystyle R_{level} = 100000.0$"
      ],
      "text/plain": [
       "Eq(R_level, 100000.0)"
      ]
     },
     "metadata": {},
     "output_type": "display_data"
    },
    {
     "data": {
      "text/markdown": [
       "---"
      ],
      "text/plain": [
       "<IPython.core.display.Markdown object>"
      ]
     },
     "metadata": {},
     "output_type": "display_data"
    },
    {
     "data": {
      "text/markdown": [
       "Variable Resistors:"
      ],
      "text/plain": [
       "<IPython.core.display.Markdown object>"
      ]
     },
     "metadata": {},
     "output_type": "display_data"
    },
    {
     "data": {
      "text/latex": [
       "$\\displaystyle R_{a} = R_{tone} \\left(1 - x\\right)$"
      ],
      "text/plain": [
       "Eq(R_a, R_tone*(1 - x))"
      ]
     },
     "metadata": {},
     "output_type": "display_data"
    },
    {
     "data": {
      "text/latex": [
       "$\\displaystyle R_{b} = R_{tone} x$"
      ],
      "text/plain": [
       "Eq(R_b, R_tone*x)"
      ]
     },
     "metadata": {},
     "output_type": "display_data"
    },
    {
     "data": {
      "text/markdown": [
       "---"
      ],
      "text/plain": [
       "<IPython.core.display.Markdown object>"
      ]
     },
     "metadata": {},
     "output_type": "display_data"
    },
    {
     "data": {
      "text/markdown": [
       "Capacitors:"
      ],
      "text/plain": [
       "<IPython.core.display.Markdown object>"
      ]
     },
     "metadata": {},
     "output_type": "display_data"
    },
    {
     "data": {
      "text/latex": [
       "$\\displaystyle C_{11} = 2.2 \\cdot 10^{-8}$"
      ],
      "text/plain": [
       "Eq(C_11, 2.2e-8)"
      ]
     },
     "metadata": {},
     "output_type": "display_data"
    },
    {
     "data": {
      "text/latex": [
       "$\\displaystyle C_{12} = 1.0 \\cdot 10^{-7}$"
      ],
      "text/plain": [
       "Eq(C_12, 1.0e-7)"
      ]
     },
     "metadata": {},
     "output_type": "display_data"
    },
    {
     "data": {
      "text/markdown": [
       "---"
      ],
      "text/plain": [
       "<IPython.core.display.Markdown object>"
      ]
     },
     "metadata": {},
     "output_type": "display_data"
    },
    {
     "data": {
      "text/markdown": [
       "Impedances:"
      ],
      "text/plain": [
       "<IPython.core.display.Markdown object>"
      ]
     },
     "metadata": {},
     "output_type": "display_data"
    },
    {
     "data": {
      "text/latex": [
       "$\\displaystyle Z_{a} = \\frac{C_{11} R_{15} s + 1}{C_{11} s}$"
      ],
      "text/plain": [
       "Eq(Z_a, (C_11*R_15*s + 1)/(C_11*s))"
      ]
     },
     "metadata": {},
     "output_type": "display_data"
    },
    {
     "data": {
      "text/latex": [
       "$\\displaystyle Z_{b} = \\frac{1}{C_{12} s}$"
      ],
      "text/plain": [
       "Eq(Z_b, 1/(C_12*s))"
      ]
     },
     "metadata": {},
     "output_type": "display_data"
    },
    {
     "data": {
      "text/markdown": [
       "---"
      ],
      "text/plain": [
       "<IPython.core.display.Markdown object>"
      ]
     },
     "metadata": {},
     "output_type": "display_data"
    },
    {
     "data": {
      "text/markdown": [
       "System Equations:"
      ],
      "text/plain": [
       "<IPython.core.display.Markdown object>"
      ]
     },
     "metadata": {},
     "output_type": "display_data"
    },
    {
     "data": {
      "text/latex": [
       "$\\displaystyle \\frac{V_{b} - V_{out}}{R_{b}} = \\frac{V_{out}}{R_{level}} + \\frac{- V_{a} + V_{out}}{R_{a}}$"
      ],
      "text/plain": [
       "Eq((V_b - V_out)/R_b, V_out/R_level + (-V_a + V_out)/R_a)"
      ]
     },
     "metadata": {},
     "output_type": "display_data"
    },
    {
     "data": {
      "text/latex": [
       "$\\displaystyle \\frac{- V_{b} + V_{s}}{R_{16}} = \\frac{V_{b}}{Z_{b}} + \\frac{V_{b} - V_{out}}{R_{b}}$"
      ],
      "text/plain": [
       "Eq((-V_b + V_s)/R_16, V_b/Z_b + (V_b - V_out)/R_b)"
      ]
     },
     "metadata": {},
     "output_type": "display_data"
    },
    {
     "data": {
      "text/latex": [
       "$\\displaystyle \\frac{- V_{a} + V_{s}}{Z_{a}} + \\frac{- V_{a} + V_{out}}{R_{a}} = \\frac{V_{a}}{R_{17}}$"
      ],
      "text/plain": [
       "Eq((-V_a + V_s)/Z_a + (-V_a + V_out)/R_a, V_a/R_17)"
      ]
     },
     "metadata": {},
     "output_type": "display_data"
    },
    {
     "data": {
      "text/latex": [
       "$\\displaystyle I_{in} = \\frac{- V_{a} + V_{s}}{Z_{a}} + \\frac{- V_{b} + V_{s}}{R_{16}}$"
      ],
      "text/plain": [
       "Eq(I_in, (-V_a + V_s)/Z_a + (-V_b + V_s)/R_16)"
      ]
     },
     "metadata": {},
     "output_type": "display_data"
    },
    {
     "data": {
      "text/latex": [
       "$\\displaystyle V_{s} = V_{in}$"
      ],
      "text/plain": [
       "Eq(V_s, V_in)"
      ]
     },
     "metadata": {},
     "output_type": "display_data"
    },
    {
     "data": {
      "text/markdown": [
       "---"
      ],
      "text/plain": [
       "<IPython.core.display.Markdown object>"
      ]
     },
     "metadata": {},
     "output_type": "display_data"
    }
   ],
   "source": [
    "# Input Sources\n",
    "Vin,Iin = sp.symbols('V_in,I_in')\n",
    "\n",
    "# Resistors\n",
    "R15,R16,R17,R_tone,R_level = sp.symbols('R_15,R_16,R_17,R_tone,R_level')\n",
    "R15_eq = sp.Eq(R15,2.2e3)\n",
    "R16_eq = sp.Eq(R16,6.8e3)\n",
    "R17_eq = sp.Eq(R17,6.8e3)\n",
    "R_tone_eq = sp.Eq(R_tone,20e3)\n",
    "R_level_eq = sp.Eq(R_level,100e3)\n",
    "resistors = [R15_eq,R16_eq,R17_eq,R_tone_eq,R_level_eq]\n",
    "\n",
    "# Variable Resistors\n",
    "x = sp.symbols('x')\n",
    "Ra,Rb = sp.symbols('R_a,R_b') \n",
    "Ra_eq = sp.Eq(Ra,R_tone*(1 - x))\n",
    "Rb_eq = sp.Eq(Rb,R_tone*x)\n",
    "variable_resistors = [Ra_eq,Rb_eq]\n",
    "\n",
    "# Capacitors\n",
    "C11,C12 = sp.symbols('C_11,C_12')\n",
    "C11_eq = sp.Eq(C11,22e-9)\n",
    "C12_eq = sp.Eq(C12,0.1e-6)\n",
    "capacitors = [C11_eq,C12_eq]\n",
    "\n",
    "# Impedances\n",
    "s = sp.symbols('s')\n",
    "Za,Zb = sp.symbols('Z_a,Z_b') \n",
    "Za_eq = sp.Eq(Za,sp.together(R15 + 1/(s*C11)))\n",
    "Zb_eq = sp.Eq(Zb,1/(s*C12))\n",
    "impedances = [Za_eq,Zb_eq]\n",
    "\n",
    "# Node Voltages\n",
    "Vout,Va,Vb,Vs = sp.symbols('V_out,V_a,V_b,V_s')\n",
    "V = [Vout,Vs,Va,Vb,Iin]\n",
    "\n",
    "# System Equations\n",
    "eq1 = sp.Eq((Vb - Vout)/Rb,(Vout - Va)/Ra + Vout/R_level)\n",
    "eq2 = sp.Eq((Vs - Vb)/R16,Vb/Zb + (Vb - Vout)/Rb)\n",
    "eq3 = sp.Eq((Vs - Va)/Za + (Vout - Va)/Ra,Va/R17)\n",
    "eq4 = sp.Eq(Iin,(Vs - Vb)/R16 + (Vs - Va)/Za)\n",
    "eq5 = sp.Eq(Vs,Vin)\n",
    "system_equations = [eq1,eq2,eq3,eq4,eq5]\n",
    "\n",
    "# Cell Output\n",
    "display(MD(\"---\"))\n",
    "display(MD(\"Resistors:\"))\n",
    "for element in resistors:\n",
    "    display(element)\n",
    "display(MD(\"---\"))\n",
    "display(MD(\"Variable Resistors:\"))\n",
    "for element in variable_resistors:\n",
    "    display(element)\n",
    "display(MD(\"---\"))\n",
    "display(MD(\"Capacitors:\"))\n",
    "for element in capacitors:\n",
    "    display(element)\n",
    "display(MD(\"---\"))\n",
    "display(MD(\"Impedances:\"))\n",
    "for element in impedances:\n",
    "    display(element)\n",
    "display(MD(\"---\"))\n",
    "display(MD(\"System Equations:\"))\n",
    "for eq in system_equations:\n",
    "    display(eq)\n",
    "display(MD(\"---\"))"
   ]
  },
  {
   "cell_type": "markdown",
   "metadata": {},
   "source": [
    "### Modified Nodal Analysis"
   ]
  },
  {
   "cell_type": "code",
   "execution_count": 35,
   "metadata": {},
   "outputs": [
    {
     "data": {
      "text/markdown": [
       "---"
      ],
      "text/plain": [
       "<IPython.core.display.Markdown object>"
      ]
     },
     "metadata": {},
     "output_type": "display_data"
    },
    {
     "data": {
      "text/markdown": [
       "Matrix G:"
      ],
      "text/plain": [
       "<IPython.core.display.Markdown object>"
      ]
     },
     "metadata": {},
     "output_type": "display_data"
    },
    {
     "data": {
      "text/latex": [
       "$\\displaystyle \\left[\\begin{matrix}- \\frac{1}{R_{level}} - \\frac{1}{R_{b}} - \\frac{1}{R_{a}} & 0 & \\frac{1}{R_{a}} & \\frac{1}{R_{b}} & 0\\\\\\frac{1}{R_{b}} & \\frac{1}{R_{16}} & 0 & - \\frac{1}{Z_{b}} - \\frac{1}{R_{b}} - \\frac{1}{R_{16}} & 0\\\\\\frac{1}{R_{a}} & \\frac{1}{Z_{a}} & - \\frac{1}{Z_{a}} - \\frac{1}{R_{a}} - \\frac{1}{R_{17}} & 0 & 0\\\\0 & - \\frac{1}{Z_{a}} - \\frac{1}{R_{16}} & \\frac{1}{Z_{a}} & \\frac{1}{R_{16}} & 1\\\\0 & 1 & 0 & 0 & 0\\end{matrix}\\right]$"
      ],
      "text/plain": [
       "Matrix([\n",
       "[-1/R_level - 1/R_b - 1/R_a,               0,                   1/R_a,                   1/R_b, 0],\n",
       "[                     1/R_b,          1/R_16,                       0, -1/Z_b - 1/R_b - 1/R_16, 0],\n",
       "[                     1/R_a,           1/Z_a, -1/Z_a - 1/R_a - 1/R_17,                       0, 0],\n",
       "[                         0, -1/Z_a - 1/R_16,                   1/Z_a,                  1/R_16, 1],\n",
       "[                         0,               1,                       0,                       0, 0]])"
      ]
     },
     "metadata": {},
     "output_type": "display_data"
    },
    {
     "data": {
      "text/markdown": [
       "Vector V:"
      ],
      "text/plain": [
       "<IPython.core.display.Markdown object>"
      ]
     },
     "metadata": {},
     "output_type": "display_data"
    },
    {
     "data": {
      "text/latex": [
       "$\\displaystyle \\left[\\begin{matrix}V_{out}\\\\V_{s}\\\\V_{a}\\\\V_{b}\\\\I_{in}\\end{matrix}\\right]$"
      ],
      "text/plain": [
       "Matrix([\n",
       "[V_out],\n",
       "[  V_s],\n",
       "[  V_a],\n",
       "[  V_b],\n",
       "[ I_in]])"
      ]
     },
     "metadata": {},
     "output_type": "display_data"
    },
    {
     "data": {
      "text/markdown": [
       "Vector I:"
      ],
      "text/plain": [
       "<IPython.core.display.Markdown object>"
      ]
     },
     "metadata": {},
     "output_type": "display_data"
    },
    {
     "data": {
      "text/latex": [
       "$\\displaystyle \\left[\\begin{matrix}0\\\\0\\\\0\\\\0\\\\V_{in}\\end{matrix}\\right]$"
      ],
      "text/plain": [
       "Matrix([\n",
       "[   0],\n",
       "[   0],\n",
       "[   0],\n",
       "[   0],\n",
       "[V_in]])"
      ]
     },
     "metadata": {},
     "output_type": "display_data"
    },
    {
     "data": {
      "text/markdown": [
       "---"
      ],
      "text/plain": [
       "<IPython.core.display.Markdown object>"
      ]
     },
     "metadata": {},
     "output_type": "display_data"
    },
    {
     "data": {
      "text/markdown": [
       "System Solution:"
      ],
      "text/plain": [
       "<IPython.core.display.Markdown object>"
      ]
     },
     "metadata": {},
     "output_type": "display_data"
    },
    {
     "data": {
      "text/latex": [
       "$\\displaystyle V_{out} = \\frac{R_{level} V_{in} \\left(R_{16} R_{17} R_{b} + R_{16} R_{17} Z_{b} + R_{17} R_{a} Z_{b} + R_{17} R_{b} Z_{b} + R_{17} Z_{a} Z_{b} + R_{a} Z_{a} Z_{b}\\right)}{R_{16} R_{17} R_{a} R_{b} + R_{16} R_{17} R_{a} R_{level} + R_{16} R_{17} R_{a} Z_{b} + R_{16} R_{17} R_{b} R_{level} + R_{16} R_{17} R_{b} Z_{a} + R_{16} R_{17} R_{level} Z_{a} + R_{16} R_{17} R_{level} Z_{b} + R_{16} R_{17} Z_{a} Z_{b} + R_{16} R_{a} R_{b} Z_{a} + R_{16} R_{a} R_{level} Z_{a} + R_{16} R_{a} Z_{a} Z_{b} + R_{16} R_{b} R_{level} Z_{a} + R_{16} R_{level} Z_{a} Z_{b} + R_{17} R_{a} R_{b} Z_{b} + R_{17} R_{a} R_{level} Z_{b} + R_{17} R_{b} R_{level} Z_{b} + R_{17} R_{b} Z_{a} Z_{b} + R_{17} R_{level} Z_{a} Z_{b} + R_{a} R_{b} Z_{a} Z_{b} + R_{a} R_{level} Z_{a} Z_{b} + R_{b} R_{level} Z_{a} Z_{b}}$"
      ],
      "text/plain": [
       "Eq(V_out, R_level*V_in*(R_16*R_17*R_b + R_16*R_17*Z_b + R_17*R_a*Z_b + R_17*R_b*Z_b + R_17*Z_a*Z_b + R_a*Z_a*Z_b)/(R_16*R_17*R_a*R_b + R_16*R_17*R_a*R_level + R_16*R_17*R_a*Z_b + R_16*R_17*R_b*R_level + R_16*R_17*R_b*Z_a + R_16*R_17*R_level*Z_a + R_16*R_17*R_level*Z_b + R_16*R_17*Z_a*Z_b + R_16*R_a*R_b*Z_a + R_16*R_a*R_level*Z_a + R_16*R_a*Z_a*Z_b + R_16*R_b*R_level*Z_a + R_16*R_level*Z_a*Z_b + R_17*R_a*R_b*Z_b + R_17*R_a*R_level*Z_b + R_17*R_b*R_level*Z_b + R_17*R_b*Z_a*Z_b + R_17*R_level*Z_a*Z_b + R_a*R_b*Z_a*Z_b + R_a*R_level*Z_a*Z_b + R_b*R_level*Z_a*Z_b))"
      ]
     },
     "metadata": {},
     "output_type": "display_data"
    },
    {
     "data": {
      "text/latex": [
       "$\\displaystyle V_{s} = V_{in}$"
      ],
      "text/plain": [
       "Eq(V_s, V_in)"
      ]
     },
     "metadata": {},
     "output_type": "display_data"
    },
    {
     "data": {
      "text/latex": [
       "$\\displaystyle V_{a} = \\frac{R_{17} V_{in} \\left(R_{16} R_{a} R_{b} + R_{16} R_{a} R_{level} + R_{16} R_{a} Z_{b} + R_{16} R_{b} R_{level} + R_{16} R_{level} Z_{b} + R_{a} R_{b} Z_{b} + R_{a} R_{level} Z_{b} + R_{b} R_{level} Z_{b} + R_{level} Z_{a} Z_{b}\\right)}{R_{16} R_{17} R_{a} R_{b} + R_{16} R_{17} R_{a} R_{level} + R_{16} R_{17} R_{a} Z_{b} + R_{16} R_{17} R_{b} R_{level} + R_{16} R_{17} R_{b} Z_{a} + R_{16} R_{17} R_{level} Z_{a} + R_{16} R_{17} R_{level} Z_{b} + R_{16} R_{17} Z_{a} Z_{b} + R_{16} R_{a} R_{b} Z_{a} + R_{16} R_{a} R_{level} Z_{a} + R_{16} R_{a} Z_{a} Z_{b} + R_{16} R_{b} R_{level} Z_{a} + R_{16} R_{level} Z_{a} Z_{b} + R_{17} R_{a} R_{b} Z_{b} + R_{17} R_{a} R_{level} Z_{b} + R_{17} R_{b} R_{level} Z_{b} + R_{17} R_{b} Z_{a} Z_{b} + R_{17} R_{level} Z_{a} Z_{b} + R_{a} R_{b} Z_{a} Z_{b} + R_{a} R_{level} Z_{a} Z_{b} + R_{b} R_{level} Z_{a} Z_{b}}$"
      ],
      "text/plain": [
       "Eq(V_a, R_17*V_in*(R_16*R_a*R_b + R_16*R_a*R_level + R_16*R_a*Z_b + R_16*R_b*R_level + R_16*R_level*Z_b + R_a*R_b*Z_b + R_a*R_level*Z_b + R_b*R_level*Z_b + R_level*Z_a*Z_b)/(R_16*R_17*R_a*R_b + R_16*R_17*R_a*R_level + R_16*R_17*R_a*Z_b + R_16*R_17*R_b*R_level + R_16*R_17*R_b*Z_a + R_16*R_17*R_level*Z_a + R_16*R_17*R_level*Z_b + R_16*R_17*Z_a*Z_b + R_16*R_a*R_b*Z_a + R_16*R_a*R_level*Z_a + R_16*R_a*Z_a*Z_b + R_16*R_b*R_level*Z_a + R_16*R_level*Z_a*Z_b + R_17*R_a*R_b*Z_b + R_17*R_a*R_level*Z_b + R_17*R_b*R_level*Z_b + R_17*R_b*Z_a*Z_b + R_17*R_level*Z_a*Z_b + R_a*R_b*Z_a*Z_b + R_a*R_level*Z_a*Z_b + R_b*R_level*Z_a*Z_b))"
      ]
     },
     "metadata": {},
     "output_type": "display_data"
    },
    {
     "data": {
      "text/latex": [
       "$\\displaystyle V_{b} = \\frac{V_{in} Z_{b} \\left(R_{16} R_{17} R_{level} + R_{17} R_{a} R_{b} + R_{17} R_{a} R_{level} + R_{17} R_{b} R_{level} + R_{17} R_{b} Z_{a} + R_{17} R_{level} Z_{a} + R_{a} R_{b} Z_{a} + R_{a} R_{level} Z_{a} + R_{b} R_{level} Z_{a}\\right)}{R_{16} R_{17} R_{a} R_{b} + R_{16} R_{17} R_{a} R_{level} + R_{16} R_{17} R_{a} Z_{b} + R_{16} R_{17} R_{b} R_{level} + R_{16} R_{17} R_{b} Z_{a} + R_{16} R_{17} R_{level} Z_{a} + R_{16} R_{17} R_{level} Z_{b} + R_{16} R_{17} Z_{a} Z_{b} + R_{16} R_{a} R_{b} Z_{a} + R_{16} R_{a} R_{level} Z_{a} + R_{16} R_{a} Z_{a} Z_{b} + R_{16} R_{b} R_{level} Z_{a} + R_{16} R_{level} Z_{a} Z_{b} + R_{17} R_{a} R_{b} Z_{b} + R_{17} R_{a} R_{level} Z_{b} + R_{17} R_{b} R_{level} Z_{b} + R_{17} R_{b} Z_{a} Z_{b} + R_{17} R_{level} Z_{a} Z_{b} + R_{a} R_{b} Z_{a} Z_{b} + R_{a} R_{level} Z_{a} Z_{b} + R_{b} R_{level} Z_{a} Z_{b}}$"
      ],
      "text/plain": [
       "Eq(V_b, V_in*Z_b*(R_16*R_17*R_level + R_17*R_a*R_b + R_17*R_a*R_level + R_17*R_b*R_level + R_17*R_b*Z_a + R_17*R_level*Z_a + R_a*R_b*Z_a + R_a*R_level*Z_a + R_b*R_level*Z_a)/(R_16*R_17*R_a*R_b + R_16*R_17*R_a*R_level + R_16*R_17*R_a*Z_b + R_16*R_17*R_b*R_level + R_16*R_17*R_b*Z_a + R_16*R_17*R_level*Z_a + R_16*R_17*R_level*Z_b + R_16*R_17*Z_a*Z_b + R_16*R_a*R_b*Z_a + R_16*R_a*R_level*Z_a + R_16*R_a*Z_a*Z_b + R_16*R_b*R_level*Z_a + R_16*R_level*Z_a*Z_b + R_17*R_a*R_b*Z_b + R_17*R_a*R_level*Z_b + R_17*R_b*R_level*Z_b + R_17*R_b*Z_a*Z_b + R_17*R_level*Z_a*Z_b + R_a*R_b*Z_a*Z_b + R_a*R_level*Z_a*Z_b + R_b*R_level*Z_a*Z_b))"
      ]
     },
     "metadata": {},
     "output_type": "display_data"
    },
    {
     "data": {
      "text/latex": [
       "$\\displaystyle I_{in} = \\frac{V_{in} \\left(R_{16} R_{17} R_{b} + R_{16} R_{17} R_{level} + R_{16} R_{17} Z_{b} + R_{16} R_{a} R_{b} + R_{16} R_{a} R_{level} + R_{16} R_{a} Z_{b} + R_{16} R_{b} R_{level} + R_{16} R_{level} Z_{b} + R_{17} R_{a} R_{b} + R_{17} R_{a} R_{level} + R_{17} R_{a} Z_{b} + R_{17} R_{b} R_{level} + R_{17} R_{b} Z_{a} + R_{17} R_{b} Z_{b} + R_{17} R_{level} Z_{a} + R_{17} Z_{a} Z_{b} + R_{a} R_{b} Z_{a} + R_{a} R_{b} Z_{b} + R_{a} R_{level} Z_{a} + R_{a} R_{level} Z_{b} + R_{a} Z_{a} Z_{b} + R_{b} R_{level} Z_{a} + R_{b} R_{level} Z_{b} + R_{level} Z_{a} Z_{b}\\right)}{R_{16} R_{17} R_{a} R_{b} + R_{16} R_{17} R_{a} R_{level} + R_{16} R_{17} R_{a} Z_{b} + R_{16} R_{17} R_{b} R_{level} + R_{16} R_{17} R_{b} Z_{a} + R_{16} R_{17} R_{level} Z_{a} + R_{16} R_{17} R_{level} Z_{b} + R_{16} R_{17} Z_{a} Z_{b} + R_{16} R_{a} R_{b} Z_{a} + R_{16} R_{a} R_{level} Z_{a} + R_{16} R_{a} Z_{a} Z_{b} + R_{16} R_{b} R_{level} Z_{a} + R_{16} R_{level} Z_{a} Z_{b} + R_{17} R_{a} R_{b} Z_{b} + R_{17} R_{a} R_{level} Z_{b} + R_{17} R_{b} R_{level} Z_{b} + R_{17} R_{b} Z_{a} Z_{b} + R_{17} R_{level} Z_{a} Z_{b} + R_{a} R_{b} Z_{a} Z_{b} + R_{a} R_{level} Z_{a} Z_{b} + R_{b} R_{level} Z_{a} Z_{b}}$"
      ],
      "text/plain": [
       "Eq(I_in, V_in*(R_16*R_17*R_b + R_16*R_17*R_level + R_16*R_17*Z_b + R_16*R_a*R_b + R_16*R_a*R_level + R_16*R_a*Z_b + R_16*R_b*R_level + R_16*R_level*Z_b + R_17*R_a*R_b + R_17*R_a*R_level + R_17*R_a*Z_b + R_17*R_b*R_level + R_17*R_b*Z_a + R_17*R_b*Z_b + R_17*R_level*Z_a + R_17*Z_a*Z_b + R_a*R_b*Z_a + R_a*R_b*Z_b + R_a*R_level*Z_a + R_a*R_level*Z_b + R_a*Z_a*Z_b + R_b*R_level*Z_a + R_b*R_level*Z_b + R_level*Z_a*Z_b)/(R_16*R_17*R_a*R_b + R_16*R_17*R_a*R_level + R_16*R_17*R_a*Z_b + R_16*R_17*R_b*R_level + R_16*R_17*R_b*Z_a + R_16*R_17*R_level*Z_a + R_16*R_17*R_level*Z_b + R_16*R_17*Z_a*Z_b + R_16*R_a*R_b*Z_a + R_16*R_a*R_level*Z_a + R_16*R_a*Z_a*Z_b + R_16*R_b*R_level*Z_a + R_16*R_level*Z_a*Z_b + R_17*R_a*R_b*Z_b + R_17*R_a*R_level*Z_b + R_17*R_b*R_level*Z_b + R_17*R_b*Z_a*Z_b + R_17*R_level*Z_a*Z_b + R_a*R_b*Z_a*Z_b + R_a*R_level*Z_a*Z_b + R_b*R_level*Z_a*Z_b))"
      ]
     },
     "metadata": {},
     "output_type": "display_data"
    },
    {
     "data": {
      "text/markdown": [
       "---"
      ],
      "text/plain": [
       "<IPython.core.display.Markdown object>"
      ]
     },
     "metadata": {},
     "output_type": "display_data"
    }
   ],
   "source": [
    "# System Matrices (GV = I)\n",
    "G,I = sym.systemToMatrixForm(system_equations,V)\n",
    "\n",
    "# System Solution\n",
    "system_solution = sym.solveLinearSystem(G,I,V)\n",
    "V_eq = sym.formEquations(V,system_solution)\n",
    "\n",
    "# Cell Output\n",
    "display(MD(\"---\"))\n",
    "display(MD(\"Matrix G:\"))\n",
    "display(G)\n",
    "display(MD(\"Vector V:\"))\n",
    "display(sp.Matrix(V))\n",
    "display(MD(\"Vector I:\"))\n",
    "display(I)\n",
    "display(MD(\"---\"))\n",
    "display(MD(\"System Solution:\"))\n",
    "for eq in V_eq:\n",
    "    display(eq)\n",
    "display(MD(\"---\"))"
   ]
  },
  {
   "cell_type": "markdown",
   "metadata": {},
   "source": [
    "### Continuous-Time Transfer Function"
   ]
  },
  {
   "cell_type": "code",
   "execution_count": 36,
   "metadata": {},
   "outputs": [
    {
     "data": {
      "text/markdown": [
       "---"
      ],
      "text/plain": [
       "<IPython.core.display.Markdown object>"
      ]
     },
     "metadata": {},
     "output_type": "display_data"
    },
    {
     "data": {
      "text/markdown": [
       "Transfer Function:"
      ],
      "text/plain": [
       "<IPython.core.display.Markdown object>"
      ]
     },
     "metadata": {},
     "output_type": "display_data"
    },
    {
     "data": {
      "text/latex": [
       "$\\displaystyle H(s) = \\frac{\\beta_{0} + \\beta_{1} s + \\beta_{2} s^{2}}{\\alpha_{0} + \\alpha_{1} s + \\alpha_{2} s^{2}}$"
      ],
      "text/plain": [
       "Eq(H(s), (\\beta_0 + \\beta_1*s + \\beta_2*s**2)/(\\alpha_0 + \\alpha_1*s + \\alpha_2*s**2))"
      ]
     },
     "metadata": {},
     "output_type": "display_data"
    },
    {
     "data": {
      "text/markdown": [
       "---"
      ],
      "text/plain": [
       "<IPython.core.display.Markdown object>"
      ]
     },
     "metadata": {},
     "output_type": "display_data"
    },
    {
     "data": {
      "text/markdown": [
       "Coefficients:"
      ],
      "text/plain": [
       "<IPython.core.display.Markdown object>"
      ]
     },
     "metadata": {},
     "output_type": "display_data"
    },
    {
     "data": {
      "text/latex": [
       "$\\displaystyle \\beta_{0} = - R_{17} R_{level} + R_{level} R_{tone} x - R_{level} R_{tone}$"
      ],
      "text/plain": [
       "Eq(\\beta_0, -R_17*R_level + R_level*R_tone*x - R_level*R_tone)"
      ]
     },
     "metadata": {},
     "output_type": "display_data"
    },
    {
     "data": {
      "text/latex": [
       "$\\displaystyle \\beta_{1} = - C_{11} R_{15} R_{17} R_{level} + C_{11} R_{15} R_{level} R_{tone} x - C_{11} R_{15} R_{level} R_{tone} - C_{11} R_{16} R_{17} R_{level} - C_{11} R_{17} R_{level} R_{tone}$"
      ],
      "text/plain": [
       "Eq(\\beta_1, -C_11*R_15*R_17*R_level + C_11*R_15*R_level*R_tone*x - C_11*R_15*R_level*R_tone - C_11*R_16*R_17*R_level - C_11*R_17*R_level*R_tone)"
      ]
     },
     "metadata": {},
     "output_type": "display_data"
    },
    {
     "data": {
      "text/latex": [
       "$\\displaystyle \\beta_{2} = - C_{11} C_{12} R_{16} R_{17} R_{level} R_{tone} x$"
      ],
      "text/plain": [
       "Eq(\\beta_2, -C_11*C_12*R_16*R_17*R_level*R_tone*x)"
      ]
     },
     "metadata": {},
     "output_type": "display_data"
    },
    {
     "data": {
      "text/latex": [
       "$\\displaystyle \\alpha_{0} = - R_{16} R_{17} - R_{16} R_{level} - R_{16} R_{tone} - R_{17} R_{level} - R_{level} R_{tone} + R_{tone}^{2} x^{2} + x \\left(R_{16} R_{tone} - R_{17} R_{tone} - R_{tone}^{2}\\right)$"
      ],
      "text/plain": [
       "Eq(\\alpha_0, -R_16*R_17 - R_16*R_level - R_16*R_tone - R_17*R_level - R_level*R_tone + R_tone**2*x**2 + x*(R_16*R_tone - R_17*R_tone - R_tone**2))"
      ]
     },
     "metadata": {},
     "output_type": "display_data"
    },
    {
     "data": {
      "text/latex": [
       "$\\displaystyle \\alpha_{1} = - C_{11} R_{15} R_{16} R_{17} - C_{11} R_{15} R_{16} R_{level} - C_{11} R_{15} R_{16} R_{tone} - C_{11} R_{15} R_{17} R_{level} - C_{11} R_{15} R_{level} R_{tone} - C_{11} R_{16} R_{17} R_{level} - C_{11} R_{16} R_{17} R_{tone} - C_{11} R_{17} R_{level} R_{tone} - C_{12} R_{16} R_{17} R_{level} - C_{12} R_{16} R_{level} R_{tone} + x^{2} \\left(C_{11} R_{15} R_{tone}^{2} + C_{11} R_{17} R_{tone}^{2} + C_{12} R_{16} R_{tone}^{2}\\right) + x \\left(C_{11} R_{15} R_{16} R_{tone} - C_{11} R_{15} R_{17} R_{tone} - C_{11} R_{15} R_{tone}^{2} + C_{11} R_{16} R_{17} R_{tone} - C_{11} R_{17} R_{tone}^{2} - C_{12} R_{16} R_{17} R_{tone} - C_{12} R_{16} R_{tone}^{2}\\right)$"
      ],
      "text/plain": [
       "Eq(\\alpha_1, -C_11*R_15*R_16*R_17 - C_11*R_15*R_16*R_level - C_11*R_15*R_16*R_tone - C_11*R_15*R_17*R_level - C_11*R_15*R_level*R_tone - C_11*R_16*R_17*R_level - C_11*R_16*R_17*R_tone - C_11*R_17*R_level*R_tone - C_12*R_16*R_17*R_level - C_12*R_16*R_level*R_tone + x**2*(C_11*R_15*R_tone**2 + C_11*R_17*R_tone**2 + C_12*R_16*R_tone**2) + x*(C_11*R_15*R_16*R_tone - C_11*R_15*R_17*R_tone - C_11*R_15*R_tone**2 + C_11*R_16*R_17*R_tone - C_11*R_17*R_tone**2 - C_12*R_16*R_17*R_tone - C_12*R_16*R_tone**2))"
      ]
     },
     "metadata": {},
     "output_type": "display_data"
    },
    {
     "data": {
      "text/latex": [
       "$\\displaystyle \\alpha_{2} = - C_{11} C_{12} R_{15} R_{16} R_{17} R_{level} - C_{11} C_{12} R_{15} R_{16} R_{level} R_{tone} - C_{11} C_{12} R_{16} R_{17} R_{level} R_{tone} + x^{2} \\left(C_{11} C_{12} R_{15} R_{16} R_{tone}^{2} + C_{11} C_{12} R_{16} R_{17} R_{tone}^{2}\\right) + x \\left(- C_{11} C_{12} R_{15} R_{16} R_{17} R_{tone} - C_{11} C_{12} R_{15} R_{16} R_{tone}^{2} - C_{11} C_{12} R_{16} R_{17} R_{tone}^{2}\\right)$"
      ],
      "text/plain": [
       "Eq(\\alpha_2, -C_11*C_12*R_15*R_16*R_17*R_level - C_11*C_12*R_15*R_16*R_level*R_tone - C_11*C_12*R_16*R_17*R_level*R_tone + x**2*(C_11*C_12*R_15*R_16*R_tone**2 + C_11*C_12*R_16*R_17*R_tone**2) + x*(-C_11*C_12*R_15*R_16*R_17*R_tone - C_11*C_12*R_15*R_16*R_tone**2 - C_11*C_12*R_16*R_17*R_tone**2))"
      ]
     },
     "metadata": {},
     "output_type": "display_data"
    },
    {
     "data": {
      "text/markdown": [
       "---"
      ],
      "text/plain": [
       "<IPython.core.display.Markdown object>"
      ]
     },
     "metadata": {},
     "output_type": "display_data"
    }
   ],
   "source": [
    "# s-Domain Representation\n",
    "tf_s = Vout/Vin\n",
    "tf_s = sym.substituteSymbols(tf_s,sym.extractEquations(V_eq,Vout))\n",
    "tf_s = sym.substituteSymbols(tf_s,impedances + variable_resistors)\n",
    "tf_s,beta_s_eq,alpha_s_eq = sym.rationalFraction(tf_s,symbol = s,num_prefix = '\\\\beta',den_prefix = '\\\\alpha')\n",
    "\n",
    "# Transfer Function\n",
    "Hs = sp.symbols('H(s)')\n",
    "Hs_eq = sp.Eq(Hs,tf_s)\n",
    "\n",
    "# Coefficients\n",
    "s_coeffs = [sp.Eq(eq.lhs,sym.groupBySymbol(eq.rhs,x)) for eq in beta_s_eq + alpha_s_eq]\n",
    "\n",
    "# Cell Output\n",
    "display(MD(\"---\"))\n",
    "display(MD(\"Transfer Function:\"))\n",
    "display(Hs_eq)\n",
    "display(MD(\"---\"))\n",
    "display(MD(\"Coefficients:\"))\n",
    "for eq in s_coeffs:\n",
    "    display(eq)\n",
    "display(MD(\"---\"))"
   ]
  },
  {
   "cell_type": "markdown",
   "metadata": {},
   "source": [
    "### Discrete-Time Transfer Function"
   ]
  },
  {
   "cell_type": "code",
   "execution_count": 37,
   "metadata": {},
   "outputs": [
    {
     "data": {
      "text/markdown": [
       "---"
      ],
      "text/plain": [
       "<IPython.core.display.Markdown object>"
      ]
     },
     "metadata": {},
     "output_type": "display_data"
    },
    {
     "data": {
      "text/markdown": [
       "Transfer Function:"
      ],
      "text/plain": [
       "<IPython.core.display.Markdown object>"
      ]
     },
     "metadata": {},
     "output_type": "display_data"
    },
    {
     "data": {
      "text/latex": [
       "$\\displaystyle H(z) = \\frac{B_{0} + B_{1} z^{-1} + B_{2} \\left(z^{-1}\\right)^{2}}{A_{0} + A_{1} z^{-1} + A_{2} \\left(z^{-1}\\right)^{2}}$"
      ],
      "text/plain": [
       "Eq(H(z), (B_0 + B_1*z^{-1} + B_2*z^{-1}**2)/(A_0 + A_1*z^{-1} + A_2*z^{-1}**2))"
      ]
     },
     "metadata": {},
     "output_type": "display_data"
    },
    {
     "data": {
      "text/markdown": [
       "---"
      ],
      "text/plain": [
       "<IPython.core.display.Markdown object>"
      ]
     },
     "metadata": {},
     "output_type": "display_data"
    },
    {
     "data": {
      "text/markdown": [
       "Coefficients:"
      ],
      "text/plain": [
       "<IPython.core.display.Markdown object>"
      ]
     },
     "metadata": {},
     "output_type": "display_data"
    },
    {
     "data": {
      "text/latex": [
       "$\\displaystyle B_{0} = - C_{11} R_{15} R_{17} R_{level} c - C_{11} R_{15} R_{level} R_{tone} c - C_{11} R_{16} R_{17} R_{level} c - C_{11} R_{17} R_{level} R_{tone} c - R_{17} R_{level} - R_{level} R_{tone} + x \\left(- C_{11} C_{12} R_{16} R_{17} R_{level} R_{tone} c^{2} + C_{11} R_{15} R_{level} R_{tone} c + R_{level} R_{tone}\\right)$"
      ],
      "text/plain": [
       "Eq(B_0, -C_11*R_15*R_17*R_level*c - C_11*R_15*R_level*R_tone*c - C_11*R_16*R_17*R_level*c - C_11*R_17*R_level*R_tone*c - R_17*R_level - R_level*R_tone + x*(-C_11*C_12*R_16*R_17*R_level*R_tone*c**2 + C_11*R_15*R_level*R_tone*c + R_level*R_tone))"
      ]
     },
     "metadata": {},
     "output_type": "display_data"
    },
    {
     "data": {
      "text/latex": [
       "$\\displaystyle B_{1} = - 2 R_{17} R_{level} - 2 R_{level} R_{tone} + x \\left(2 C_{11} C_{12} R_{16} R_{17} R_{level} R_{tone} c^{2} + 2 R_{level} R_{tone}\\right)$"
      ],
      "text/plain": [
       "Eq(B_1, -2*R_17*R_level - 2*R_level*R_tone + x*(2*C_11*C_12*R_16*R_17*R_level*R_tone*c**2 + 2*R_level*R_tone))"
      ]
     },
     "metadata": {},
     "output_type": "display_data"
    },
    {
     "data": {
      "text/latex": [
       "$\\displaystyle B_{2} = C_{11} R_{15} R_{17} R_{level} c + C_{11} R_{15} R_{level} R_{tone} c + C_{11} R_{16} R_{17} R_{level} c + C_{11} R_{17} R_{level} R_{tone} c - R_{17} R_{level} - R_{level} R_{tone} + x \\left(- C_{11} C_{12} R_{16} R_{17} R_{level} R_{tone} c^{2} - C_{11} R_{15} R_{level} R_{tone} c + R_{level} R_{tone}\\right)$"
      ],
      "text/plain": [
       "Eq(B_2, C_11*R_15*R_17*R_level*c + C_11*R_15*R_level*R_tone*c + C_11*R_16*R_17*R_level*c + C_11*R_17*R_level*R_tone*c - R_17*R_level - R_level*R_tone + x*(-C_11*C_12*R_16*R_17*R_level*R_tone*c**2 - C_11*R_15*R_level*R_tone*c + R_level*R_tone))"
      ]
     },
     "metadata": {},
     "output_type": "display_data"
    },
    {
     "data": {
      "text/latex": [
       "$\\displaystyle A_{0} = - C_{11} C_{12} R_{15} R_{16} R_{17} R_{level} c^{2} - C_{11} C_{12} R_{15} R_{16} R_{level} R_{tone} c^{2} - C_{11} C_{12} R_{16} R_{17} R_{level} R_{tone} c^{2} - C_{11} R_{15} R_{16} R_{17} c - C_{11} R_{15} R_{16} R_{level} c - C_{11} R_{15} R_{16} R_{tone} c - C_{11} R_{15} R_{17} R_{level} c - C_{11} R_{15} R_{level} R_{tone} c - C_{11} R_{16} R_{17} R_{level} c - C_{11} R_{16} R_{17} R_{tone} c - C_{11} R_{17} R_{level} R_{tone} c - C_{12} R_{16} R_{17} R_{level} c - C_{12} R_{16} R_{level} R_{tone} c - R_{16} R_{17} - R_{16} R_{level} - R_{16} R_{tone} - R_{17} R_{level} - R_{level} R_{tone} + x^{2} \\left(C_{11} C_{12} R_{15} R_{16} R_{tone}^{2} c^{2} + C_{11} C_{12} R_{16} R_{17} R_{tone}^{2} c^{2} + C_{11} R_{15} R_{tone}^{2} c + C_{11} R_{17} R_{tone}^{2} c + C_{12} R_{16} R_{tone}^{2} c + R_{tone}^{2}\\right) + x \\left(- C_{11} C_{12} R_{15} R_{16} R_{17} R_{tone} c^{2} - C_{11} C_{12} R_{15} R_{16} R_{tone}^{2} c^{2} - C_{11} C_{12} R_{16} R_{17} R_{tone}^{2} c^{2} + C_{11} R_{15} R_{16} R_{tone} c - C_{11} R_{15} R_{17} R_{tone} c - C_{11} R_{15} R_{tone}^{2} c + C_{11} R_{16} R_{17} R_{tone} c - C_{11} R_{17} R_{tone}^{2} c - C_{12} R_{16} R_{17} R_{tone} c - C_{12} R_{16} R_{tone}^{2} c + R_{16} R_{tone} - R_{17} R_{tone} - R_{tone}^{2}\\right)$"
      ],
      "text/plain": [
       "Eq(A_0, -C_11*C_12*R_15*R_16*R_17*R_level*c**2 - C_11*C_12*R_15*R_16*R_level*R_tone*c**2 - C_11*C_12*R_16*R_17*R_level*R_tone*c**2 - C_11*R_15*R_16*R_17*c - C_11*R_15*R_16*R_level*c - C_11*R_15*R_16*R_tone*c - C_11*R_15*R_17*R_level*c - C_11*R_15*R_level*R_tone*c - C_11*R_16*R_17*R_level*c - C_11*R_16*R_17*R_tone*c - C_11*R_17*R_level*R_tone*c - C_12*R_16*R_17*R_level*c - C_12*R_16*R_level*R_tone*c - R_16*R_17 - R_16*R_level - R_16*R_tone - R_17*R_level - R_level*R_tone + x**2*(C_11*C_12*R_15*R_16*R_tone**2*c**2 + C_11*C_12*R_16*R_17*R_tone**2*c**2 + C_11*R_15*R_tone**2*c + C_11*R_17*R_tone**2*c + C_12*R_16*R_tone**2*c + R_tone**2) + x*(-C_11*C_12*R_15*R_16*R_17*R_tone*c**2 - C_11*C_12*R_15*R_16*R_tone**2*c**2 - C_11*C_12*R_16*R_17*R_tone**2*c**2 + C_11*R_15*R_16*R_tone*c - C_11*R_15*R_17*R_tone*c - C_11*R_15*R_tone**2*c + C_11*R_16*R_17*R_tone*c - C_11*R_17*R_tone**2*c - C_12*R_16*R_17*R_tone*c - C_12*R_16*R_tone**2*c + R_16*R_tone - R_17*R_tone - R_tone**2))"
      ]
     },
     "metadata": {},
     "output_type": "display_data"
    },
    {
     "data": {
      "text/latex": [
       "$\\displaystyle A_{1} = 2 C_{11} C_{12} R_{15} R_{16} R_{17} R_{level} c^{2} + 2 C_{11} C_{12} R_{15} R_{16} R_{level} R_{tone} c^{2} + 2 C_{11} C_{12} R_{16} R_{17} R_{level} R_{tone} c^{2} - 2 R_{16} R_{17} - 2 R_{16} R_{level} - 2 R_{16} R_{tone} - 2 R_{17} R_{level} - 2 R_{level} R_{tone} + x^{2} \\left(- 2 C_{11} C_{12} R_{15} R_{16} R_{tone}^{2} c^{2} - 2 C_{11} C_{12} R_{16} R_{17} R_{tone}^{2} c^{2} + 2 R_{tone}^{2}\\right) + x \\left(2 C_{11} C_{12} R_{15} R_{16} R_{17} R_{tone} c^{2} + 2 C_{11} C_{12} R_{15} R_{16} R_{tone}^{2} c^{2} + 2 C_{11} C_{12} R_{16} R_{17} R_{tone}^{2} c^{2} + 2 R_{16} R_{tone} - 2 R_{17} R_{tone} - 2 R_{tone}^{2}\\right)$"
      ],
      "text/plain": [
       "Eq(A_1, 2*C_11*C_12*R_15*R_16*R_17*R_level*c**2 + 2*C_11*C_12*R_15*R_16*R_level*R_tone*c**2 + 2*C_11*C_12*R_16*R_17*R_level*R_tone*c**2 - 2*R_16*R_17 - 2*R_16*R_level - 2*R_16*R_tone - 2*R_17*R_level - 2*R_level*R_tone + x**2*(-2*C_11*C_12*R_15*R_16*R_tone**2*c**2 - 2*C_11*C_12*R_16*R_17*R_tone**2*c**2 + 2*R_tone**2) + x*(2*C_11*C_12*R_15*R_16*R_17*R_tone*c**2 + 2*C_11*C_12*R_15*R_16*R_tone**2*c**2 + 2*C_11*C_12*R_16*R_17*R_tone**2*c**2 + 2*R_16*R_tone - 2*R_17*R_tone - 2*R_tone**2))"
      ]
     },
     "metadata": {},
     "output_type": "display_data"
    },
    {
     "data": {
      "text/latex": [
       "$\\displaystyle A_{2} = - C_{11} C_{12} R_{15} R_{16} R_{17} R_{level} c^{2} - C_{11} C_{12} R_{15} R_{16} R_{level} R_{tone} c^{2} - C_{11} C_{12} R_{16} R_{17} R_{level} R_{tone} c^{2} + C_{11} R_{15} R_{16} R_{17} c + C_{11} R_{15} R_{16} R_{level} c + C_{11} R_{15} R_{16} R_{tone} c + C_{11} R_{15} R_{17} R_{level} c + C_{11} R_{15} R_{level} R_{tone} c + C_{11} R_{16} R_{17} R_{level} c + C_{11} R_{16} R_{17} R_{tone} c + C_{11} R_{17} R_{level} R_{tone} c + C_{12} R_{16} R_{17} R_{level} c + C_{12} R_{16} R_{level} R_{tone} c - R_{16} R_{17} - R_{16} R_{level} - R_{16} R_{tone} - R_{17} R_{level} - R_{level} R_{tone} + x^{2} \\left(C_{11} C_{12} R_{15} R_{16} R_{tone}^{2} c^{2} + C_{11} C_{12} R_{16} R_{17} R_{tone}^{2} c^{2} - C_{11} R_{15} R_{tone}^{2} c - C_{11} R_{17} R_{tone}^{2} c - C_{12} R_{16} R_{tone}^{2} c + R_{tone}^{2}\\right) + x \\left(- C_{11} C_{12} R_{15} R_{16} R_{17} R_{tone} c^{2} - C_{11} C_{12} R_{15} R_{16} R_{tone}^{2} c^{2} - C_{11} C_{12} R_{16} R_{17} R_{tone}^{2} c^{2} - C_{11} R_{15} R_{16} R_{tone} c + C_{11} R_{15} R_{17} R_{tone} c + C_{11} R_{15} R_{tone}^{2} c - C_{11} R_{16} R_{17} R_{tone} c + C_{11} R_{17} R_{tone}^{2} c + C_{12} R_{16} R_{17} R_{tone} c + C_{12} R_{16} R_{tone}^{2} c + R_{16} R_{tone} - R_{17} R_{tone} - R_{tone}^{2}\\right)$"
      ],
      "text/plain": [
       "Eq(A_2, -C_11*C_12*R_15*R_16*R_17*R_level*c**2 - C_11*C_12*R_15*R_16*R_level*R_tone*c**2 - C_11*C_12*R_16*R_17*R_level*R_tone*c**2 + C_11*R_15*R_16*R_17*c + C_11*R_15*R_16*R_level*c + C_11*R_15*R_16*R_tone*c + C_11*R_15*R_17*R_level*c + C_11*R_15*R_level*R_tone*c + C_11*R_16*R_17*R_level*c + C_11*R_16*R_17*R_tone*c + C_11*R_17*R_level*R_tone*c + C_12*R_16*R_17*R_level*c + C_12*R_16*R_level*R_tone*c - R_16*R_17 - R_16*R_level - R_16*R_tone - R_17*R_level - R_level*R_tone + x**2*(C_11*C_12*R_15*R_16*R_tone**2*c**2 + C_11*C_12*R_16*R_17*R_tone**2*c**2 - C_11*R_15*R_tone**2*c - C_11*R_17*R_tone**2*c - C_12*R_16*R_tone**2*c + R_tone**2) + x*(-C_11*C_12*R_15*R_16*R_17*R_tone*c**2 - C_11*C_12*R_15*R_16*R_tone**2*c**2 - C_11*C_12*R_16*R_17*R_tone**2*c**2 - C_11*R_15*R_16*R_tone*c + C_11*R_15*R_17*R_tone*c + C_11*R_15*R_tone**2*c - C_11*R_16*R_17*R_tone*c + C_11*R_17*R_tone**2*c + C_12*R_16*R_17*R_tone*c + C_12*R_16*R_tone**2*c + R_16*R_tone - R_17*R_tone - R_tone**2))"
      ]
     },
     "metadata": {},
     "output_type": "display_data"
    },
    {
     "data": {
      "text/markdown": [
       "---"
      ],
      "text/plain": [
       "<IPython.core.display.Markdown object>"
      ]
     },
     "metadata": {},
     "output_type": "display_data"
    }
   ],
   "source": [
    "# z-Domain Representation\n",
    "c,z_inv = sp.symbols('c,z^{-1}')\n",
    "s_eq = sp.Eq(s,c*(1 - z_inv)/(1 + z_inv))\n",
    "tf_z = sym.substituteSymbols(tf_s,s_eq)\n",
    "tf_z,beta_z_eq,alpha_z_eq = sym.rationalFraction(tf_z,symbol = z_inv,num_prefix = 'B',den_prefix = 'A')\n",
    "\n",
    "# Transfer Function\n",
    "Hz = sp.symbols('H(z)')\n",
    "Hz_eq = sp.Eq(Hz,tf_z)\n",
    "\n",
    "# Coefficients\n",
    "z_coeffs = [sp.Eq(eq.lhs,sym.groupBySymbol(sym.substituteSymbols(eq,s_coeffs).rhs,x)) for eq in beta_z_eq + alpha_z_eq]\n",
    "\n",
    "# Cell Output\n",
    "display(MD(\"---\"))\n",
    "display(MD(\"Transfer Function:\"))\n",
    "display(Hz_eq)\n",
    "display(MD(\"---\"))\n",
    "display(MD(\"Coefficients:\"))\n",
    "for eq in z_coeffs:\n",
    "    display(eq)\n",
    "display(MD(\"---\"))"
   ]
  },
  {
   "cell_type": "code",
   "execution_count": 38,
   "metadata": {},
   "outputs": [
    {
     "data": {
      "text/markdown": [
       "---"
      ],
      "text/plain": [
       "<IPython.core.display.Markdown object>"
      ]
     },
     "metadata": {},
     "output_type": "display_data"
    },
    {
     "data": {
      "text/markdown": [
       "Coefficients (Evaluated):"
      ],
      "text/plain": [
       "<IPython.core.display.Markdown object>"
      ]
     },
     "metadata": {},
     "output_type": "display_data"
    },
    {
     "data": {
      "text/latex": [
       "$\\displaystyle B_{0} = - 530640.0 c + x \\left(- 203.456 c^{2} + 96800.0 c + 2000000000.0\\right) - 2680000000.0$"
      ],
      "text/plain": [
       "Eq(B_0, -530640.0*c + x*(-203.456*c**2 + 96800.0*c + 2000000000.0) - 2680000000.0)"
      ]
     },
     "metadata": {},
     "output_type": "display_data"
    },
    {
     "data": {
      "text/latex": [
       "$\\displaystyle B_{1} = x \\left(406.912 c^{2} + 4000000000.0\\right) - 5360000000.0$"
      ],
      "text/plain": [
       "Eq(B_1, x*(406.912*c**2 + 4000000000.0) - 5360000000.0)"
      ]
     },
     "metadata": {},
     "output_type": "display_data"
    },
    {
     "data": {
      "text/latex": [
       "$\\displaystyle B_{2} = 530640.0 c + x \\left(- 203.456 c^{2} - 96800.0 c + 2000000000.0\\right) - 2680000000.0$"
      ],
      "text/plain": [
       "Eq(B_2, 530640.0*c + x*(-203.456*c**2 - 96800.0*c + 2000000000.0) - 2680000000.0)"
      ]
     },
     "metadata": {},
     "output_type": "display_data"
    },
    {
     "data": {
      "text/latex": [
       "$\\displaystyle A_{0} = - 291.66016 c^{2} - 2415118.016 c + x^{2} \\left(53.856 c^{2} + 351200.0 c + 400000000.0\\right) + x \\left(- 58.332032 c^{2} - 423334.4 c - 400000000.0\\right) - 3542240000.0$"
      ],
      "text/plain": [
       "Eq(A_0, -291.66016*c**2 - 2415118.016*c + x**2*(53.856*c**2 + 351200.0*c + 400000000.0) + x*(-58.332032*c**2 - 423334.4*c - 400000000.0) - 3542240000.0)"
      ]
     },
     "metadata": {},
     "output_type": "display_data"
    },
    {
     "data": {
      "text/latex": [
       "$\\displaystyle A_{1} = 583.32032 c^{2} + x^{2} \\left(800000000.0 - 107.712 c^{2}\\right) + x \\left(116.664064 c^{2} - 800000000.0\\right) - 7084480000.0$"
      ],
      "text/plain": [
       "Eq(A_1, 583.32032*c**2 + x**2*(800000000.0 - 107.712*c**2) + x*(116.664064*c**2 - 800000000.0) - 7084480000.0)"
      ]
     },
     "metadata": {},
     "output_type": "display_data"
    },
    {
     "data": {
      "text/latex": [
       "$\\displaystyle A_{2} = - 291.66016 c^{2} + 2415118.016 c + x^{2} \\left(53.856 c^{2} - 351200.0 c + 400000000.0\\right) + x \\left(- 58.332032 c^{2} + 423334.4 c - 400000000.0\\right) - 3542240000.0$"
      ],
      "text/plain": [
       "Eq(A_2, -291.66016*c**2 + 2415118.016*c + x**2*(53.856*c**2 - 351200.0*c + 400000000.0) + x*(-58.332032*c**2 + 423334.4*c - 400000000.0) - 3542240000.0)"
      ]
     },
     "metadata": {},
     "output_type": "display_data"
    },
    {
     "data": {
      "text/markdown": [
       "---"
      ],
      "text/plain": [
       "<IPython.core.display.Markdown object>"
      ]
     },
     "metadata": {},
     "output_type": "display_data"
    }
   ],
   "source": [
    "# Evaluate Expressions\n",
    "z_coeffs_eval = [sym.substituteSymbols(eq,resistors + capacitors) for eq in z_coeffs]\n",
    "\n",
    "# Cell Output\n",
    "display(MD(\"---\"))\n",
    "display(MD(\"Coefficients (Evaluated):\"))\n",
    "for eq in z_coeffs_eval:\n",
    "    display(eq)\n",
    "display(MD(\"---\"))"
   ]
  },
  {
   "cell_type": "markdown",
   "metadata": {},
   "source": [
    "### Execution Conclusion"
   ]
  },
  {
   "cell_type": "code",
   "execution_count": 39,
   "metadata": {},
   "outputs": [
    {
     "name": "stdout",
     "output_type": "stream",
     "text": [
      "====================================================================================================\n",
      "                          Execution Runtime: 3.733 s | 25/06/2025 18:46:15\n",
      "====================================================================================================\n"
     ]
    }
   ],
   "source": [
    "# End Timer\n",
    "runtime = utils.calculateElapsedTime(start_time,unit = 's')\n",
    "utils.printFooter(runtime,line_break = False)"
   ]
  }
 ],
 "metadata": {
  "kernelspec": {
   "display_name": "MTA-VAM",
   "language": "python",
   "name": "python3"
  },
  "language_info": {
   "codemirror_mode": {
    "name": "ipython",
    "version": 3
   },
   "file_extension": ".py",
   "mimetype": "text/x-python",
   "name": "python",
   "nbconvert_exporter": "python",
   "pygments_lexer": "ipython3",
   "version": "3.9.7"
  }
 },
 "nbformat": 4,
 "nbformat_minor": 2
}
