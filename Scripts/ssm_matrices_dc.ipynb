{
 "cells": [
  {
   "cell_type": "markdown",
   "metadata": {},
   "source": [
    "---\n",
    "\n",
    "***Filename***: ss_matrices.ipynb\n",
    "\n",
    "---\n",
    "\n",
    "***Description***: This notebook computes the matrices for the DC state-space model of the *Boss DS-1* **Transistor Amplifier** stage\n",
    "\n",
    "---\n",
    "***Author***: Alexandros Iliadis\n",
    "\n",
    "\n",
    "***Project***: MSc Thesis\n",
    "\n",
    "***Date***: June 2025\n",
    "\n",
    "---"
   ]
  },
  {
   "cell_type": "markdown",
   "metadata": {},
   "source": [
    "### Execution Initialization"
   ]
  },
  {
   "cell_type": "code",
   "execution_count": 1,
   "metadata": {},
   "outputs": [
    {
     "name": "stdout",
     "output_type": "stream",
     "text": [
      "====================================================================================================\n",
      "                    Executing File: ssm_matrices_dc.ipynb | 25/06/2025 17:30:22\n",
      "====================================================================================================\n"
     ]
    }
   ],
   "source": [
    "# Import Modules (Built-In)\n",
    "import os\n",
    "import sys\n",
    "import time\n",
    "\n",
    "# Import Modules (User-Defined)\n",
    "sys.path.append(os.path.abspath('Modules'))\n",
    "import symbolic as sym\n",
    "import utilities as utils\n",
    "\n",
    "# Import Modules (Third-Party)\n",
    "import sympy as sp\n",
    "from IPython.display import display\n",
    "from IPython.display import Markdown as MD\n",
    "\n",
    "# Start Timer\n",
    "start_time = time.perf_counter()\n",
    "utils.printHeader(\"ssm_matrices_dc.ipynb\",line_break = False)"
   ]
  },
  {
   "cell_type": "markdown",
   "metadata": {},
   "source": [
    "### Circuit Topology Description"
   ]
  },
  {
   "cell_type": "code",
   "execution_count": 2,
   "metadata": {},
   "outputs": [
    {
     "data": {
      "text/markdown": [
       "---"
      ],
      "text/plain": [
       "<IPython.core.display.Markdown object>"
      ]
     },
     "metadata": {},
     "output_type": "display_data"
    },
    {
     "data": {
      "text/markdown": [
       "Resistors:"
      ],
      "text/plain": [
       "<IPython.core.display.Markdown object>"
      ]
     },
     "metadata": {},
     "output_type": "display_data"
    },
    {
     "data": {
      "text/latex": [
       "$\\displaystyle R_{6} = 100000.0$"
      ],
      "text/plain": [
       "Eq(R_6, 100000.0)"
      ]
     },
     "metadata": {},
     "output_type": "display_data"
    },
    {
     "data": {
      "text/latex": [
       "$\\displaystyle R_{7} = 470000.0$"
      ],
      "text/plain": [
       "Eq(R_7, 470000.0)"
      ]
     },
     "metadata": {},
     "output_type": "display_data"
    },
    {
     "data": {
      "text/latex": [
       "$\\displaystyle R_{8} = 10000.0$"
      ],
      "text/plain": [
       "Eq(R_8, 10000.0)"
      ]
     },
     "metadata": {},
     "output_type": "display_data"
    },
    {
     "data": {
      "text/latex": [
       "$\\displaystyle R_{9} = 22$"
      ],
      "text/plain": [
       "Eq(R_9, 22)"
      ]
     },
     "metadata": {},
     "output_type": "display_data"
    },
    {
     "data": {
      "text/latex": [
       "$\\displaystyle R_{10} = 100000.0$"
      ],
      "text/plain": [
       "Eq(R_10, 100000.0)"
      ]
     },
     "metadata": {},
     "output_type": "display_data"
    },
    {
     "data": {
      "text/markdown": [
       "---"
      ],
      "text/plain": [
       "<IPython.core.display.Markdown object>"
      ]
     },
     "metadata": {},
     "output_type": "display_data"
    },
    {
     "data": {
      "text/markdown": [
       "Conductances:"
      ],
      "text/plain": [
       "<IPython.core.display.Markdown object>"
      ]
     },
     "metadata": {},
     "output_type": "display_data"
    },
    {
     "data": {
      "text/latex": [
       "$\\displaystyle G_{6} = \\frac{1}{R_{6}}$"
      ],
      "text/plain": [
       "Eq(G_6, 1/R_6)"
      ]
     },
     "metadata": {},
     "output_type": "display_data"
    },
    {
     "data": {
      "text/latex": [
       "$\\displaystyle G_{7} = \\frac{1}{R_{7}}$"
      ],
      "text/plain": [
       "Eq(G_7, 1/R_7)"
      ]
     },
     "metadata": {},
     "output_type": "display_data"
    },
    {
     "data": {
      "text/latex": [
       "$\\displaystyle G_{8} = \\frac{1}{R_{8}}$"
      ],
      "text/plain": [
       "Eq(G_8, 1/R_8)"
      ]
     },
     "metadata": {},
     "output_type": "display_data"
    },
    {
     "data": {
      "text/latex": [
       "$\\displaystyle G_{9} = \\frac{1}{R_{9}}$"
      ],
      "text/plain": [
       "Eq(G_9, 1/R_9)"
      ]
     },
     "metadata": {},
     "output_type": "display_data"
    },
    {
     "data": {
      "text/latex": [
       "$\\displaystyle G_{10} = \\frac{1}{R_{10}}$"
      ],
      "text/plain": [
       "Eq(G_10, 1/R_10)"
      ]
     },
     "metadata": {},
     "output_type": "display_data"
    },
    {
     "data": {
      "text/markdown": [
       "---"
      ],
      "text/plain": [
       "<IPython.core.display.Markdown object>"
      ]
     },
     "metadata": {},
     "output_type": "display_data"
    },
    {
     "data": {
      "text/markdown": [
       "Capacitors:"
      ],
      "text/plain": [
       "<IPython.core.display.Markdown object>"
      ]
     },
     "metadata": {},
     "output_type": "display_data"
    },
    {
     "data": {
      "text/latex": [
       "$\\displaystyle C_{3} = 4.7 \\cdot 10^{-8}$"
      ],
      "text/plain": [
       "Eq(C_3, 4.7e-8)"
      ]
     },
     "metadata": {},
     "output_type": "display_data"
    },
    {
     "data": {
      "text/latex": [
       "$\\displaystyle C_{4} = 2.5 \\cdot 10^{-10}$"
      ],
      "text/plain": [
       "Eq(C_4, 2.5e-10)"
      ]
     },
     "metadata": {},
     "output_type": "display_data"
    },
    {
     "data": {
      "text/latex": [
       "$\\displaystyle C_{5} = 6.8 \\cdot 10^{-8}$"
      ],
      "text/plain": [
       "Eq(C_5, 6.8e-8)"
      ]
     },
     "metadata": {},
     "output_type": "display_data"
    },
    {
     "data": {
      "text/markdown": [
       "---"
      ],
      "text/plain": [
       "<IPython.core.display.Markdown object>"
      ]
     },
     "metadata": {},
     "output_type": "display_data"
    },
    {
     "data": {
      "text/markdown": [
       "Nonlinear Currents:"
      ],
      "text/plain": [
       "<IPython.core.display.Markdown object>"
      ]
     },
     "metadata": {},
     "output_type": "display_data"
    },
    {
     "data": {
      "text/latex": [
       "$\\displaystyle I_{e} = I_{b} + I_{c}$"
      ],
      "text/plain": [
       "Eq(I_e, I_b + I_c)"
      ]
     },
     "metadata": {},
     "output_type": "display_data"
    },
    {
     "data": {
      "text/markdown": [
       "---"
      ],
      "text/plain": [
       "<IPython.core.display.Markdown object>"
      ]
     },
     "metadata": {},
     "output_type": "display_data"
    },
    {
     "data": {
      "text/markdown": [
       "Controlling Voltages:"
      ],
      "text/plain": [
       "<IPython.core.display.Markdown object>"
      ]
     },
     "metadata": {},
     "output_type": "display_data"
    },
    {
     "data": {
      "text/latex": [
       "$\\displaystyle V_{be} = V_{b} - V_{e}$"
      ],
      "text/plain": [
       "Eq(V_be, V_b - V_e)"
      ]
     },
     "metadata": {},
     "output_type": "display_data"
    },
    {
     "data": {
      "text/latex": [
       "$\\displaystyle V_{bc} = V_{b} - V_{c}$"
      ],
      "text/plain": [
       "Eq(V_bc, V_b - V_c)"
      ]
     },
     "metadata": {},
     "output_type": "display_data"
    },
    {
     "data": {
      "text/markdown": [
       "---"
      ],
      "text/plain": [
       "<IPython.core.display.Markdown object>"
      ]
     },
     "metadata": {},
     "output_type": "display_data"
    },
    {
     "data": {
      "text/markdown": [
       "System Equations:"
      ],
      "text/plain": [
       "<IPython.core.display.Markdown object>"
      ]
     },
     "metadata": {},
     "output_type": "display_data"
    },
    {
     "data": {
      "text/latex": [
       "$\\displaystyle \\frac{V_{out}}{R_{10}} = 0$"
      ],
      "text/plain": [
       "Eq(V_out/R_10, 0)"
      ]
     },
     "metadata": {},
     "output_type": "display_data"
    },
    {
     "data": {
      "text/latex": [
       "$\\displaystyle \\frac{- V_{c} + V_{p}}{R_{8}} + \\frac{V_{b} - V_{c}}{R_{7}} = I_{c}$"
      ],
      "text/plain": [
       "Eq((-V_c + V_p)/R_8 + (V_b - V_c)/R_7, I_c)"
      ]
     },
     "metadata": {},
     "output_type": "display_data"
    },
    {
     "data": {
      "text/latex": [
       "$\\displaystyle I_{e} = \\frac{V_{e}}{R_{9}}$"
      ],
      "text/plain": [
       "Eq(I_e, V_e/R_9)"
      ]
     },
     "metadata": {},
     "output_type": "display_data"
    },
    {
     "data": {
      "text/latex": [
       "$\\displaystyle 0 = I_{b} + \\frac{V_{b} - V_{c}}{R_{7}} + \\frac{V_{b}}{R_{6}}$"
      ],
      "text/plain": [
       "Eq(0, I_b + (V_b - V_c)/R_7 + V_b/R_6)"
      ]
     },
     "metadata": {},
     "output_type": "display_data"
    },
    {
     "data": {
      "text/latex": [
       "$\\displaystyle V_{p} = V_{CC}$"
      ],
      "text/plain": [
       "Eq(V_p, V_CC)"
      ]
     },
     "metadata": {},
     "output_type": "display_data"
    },
    {
     "data": {
      "text/latex": [
       "$\\displaystyle V_{s} = 0$"
      ],
      "text/plain": [
       "Eq(V_s, 0)"
      ]
     },
     "metadata": {},
     "output_type": "display_data"
    },
    {
     "data": {
      "text/latex": [
       "$\\displaystyle V_{C_{3}} = - V_{b} + V_{s}$"
      ],
      "text/plain": [
       "Eq(V_{C_{3}}, -V_b + V_s)"
      ]
     },
     "metadata": {},
     "output_type": "display_data"
    },
    {
     "data": {
      "text/latex": [
       "$\\displaystyle V_{C_{4}} = V_{b} - V_{c}$"
      ],
      "text/plain": [
       "Eq(V_{C_{4}}, V_b - V_c)"
      ]
     },
     "metadata": {},
     "output_type": "display_data"
    },
    {
     "data": {
      "text/latex": [
       "$\\displaystyle V_{C_{5}} = V_{c} - V_{out}$"
      ],
      "text/plain": [
       "Eq(V_{C_{5}}, V_c - V_out)"
      ]
     },
     "metadata": {},
     "output_type": "display_data"
    },
    {
     "data": {
      "text/latex": [
       "$\\displaystyle I_{CC} = \\frac{- V_{c} + V_{p}}{R_{8}}$"
      ],
      "text/plain": [
       "Eq(I_CC, (-V_c + V_p)/R_8)"
      ]
     },
     "metadata": {},
     "output_type": "display_data"
    },
    {
     "data": {
      "text/markdown": [
       "---"
      ],
      "text/plain": [
       "<IPython.core.display.Markdown object>"
      ]
     },
     "metadata": {},
     "output_type": "display_data"
    }
   ],
   "source": [
    "# Input Sources\n",
    "Vcc,Icc = sp.symbols('V_CC,I_CC')\n",
    "\n",
    "# Resistors\n",
    "R6,R7,R8,R9,R10 = sp.symbols('R_6,R_7,R_8,R_9,R_10')\n",
    "R6_eq = sp.Eq(R6,100e3)\n",
    "R7_eq = sp.Eq(R7,470e3)\n",
    "R8_eq = sp.Eq(R8,10e3)\n",
    "R9_eq = sp.Eq(R9,22)\n",
    "R10_eq = sp.Eq(R10,100e3)\n",
    "resistors = [R6_eq,R7_eq,R8_eq,R9_eq,R10_eq]\n",
    "\n",
    "# Conductances\n",
    "G6,G7,G8,G9,G10 = sp.symbols('G_6,G_7,G_8,G_9,G_10')\n",
    "G6_eq = sp.Eq(G6,1/R6)\n",
    "G7_eq = sp.Eq(G7,1/R7)\n",
    "G8_eq = sp.Eq(G8,1/R8)\n",
    "G9_eq = sp.Eq(G9,1/R9)\n",
    "G10_eq = sp.Eq(G10,1/R10)\n",
    "conductances = [G6_eq,G7_eq,G8_eq,G9_eq,G10_eq]\n",
    "\n",
    "# Capacitors\n",
    "C3,C4,C5 = sp.symbols('C_3,C_4,C_5')\n",
    "C3_eq = sp.Eq(C3,47e-9)\n",
    "C4_eq = sp.Eq(C4,250e-12)\n",
    "C5_eq = sp.Eq(C5,68e-9)\n",
    "capacitors = [C3_eq,C4_eq,C5_eq]\n",
    "\n",
    "# States\n",
    "V_C3,V_C4,V_C5 = sp.symbols('V_{C_{3}},V_{C_{4}},V_{C_{5}}')\n",
    "x = [V_C3,V_C4,V_C5]\n",
    "\n",
    "# Node Voltages\n",
    "Vout,Vc,Vb,Ve,Vp,Vs = sp.symbols('V_out,V_c,V_b,V_e,V_p,V_s')\n",
    "V = [Vout,Vs,Vp,Vc,Vb,Ve,Icc,V_C3,V_C4,V_C5]\n",
    "\n",
    "# Nonlinear Currents\n",
    "Ic,Ib,Ie = sp.symbols('I_c,I_b,I_e')\n",
    "Ie_eq = sp.Eq(Ie,Ib + Ic)\n",
    "nonlinear_currents = [Ie_eq]\n",
    "\n",
    "# Controlling Voltages\n",
    "Vbe,Vbc = sp.symbols('V_be,V_bc')\n",
    "Vbe_eq = sp.Eq(Vbe,Vb - Ve)\n",
    "Vbc_eq = sp.Eq(Vbc,Vb - Vc)\n",
    "controlling_voltages = [Vbe_eq,Vbc_eq]\n",
    "\n",
    "# State-Space Vectors\n",
    "x = [V_C3,V_C4,V_C5]\n",
    "u = [Vcc]\n",
    "v = [Vbe,Vbc]\n",
    "i = [Ib,Ic]\n",
    "y = [Vout]\n",
    "\n",
    "# System Equations\n",
    "eq1 = sp.Eq(Vout/R10,0)\n",
    "eq2 = sp.Eq((Vp - Vc)/R8 + (Vb - Vc)/R7,Ic)\n",
    "eq3 = sp.Eq(Ie,Ve/R9)\n",
    "eq4 = sp.Eq(0,Vb/R6 + (Vb - Vc)/R7 + Ib)\n",
    "eq5 = sp.Eq(Vp,Vcc)\n",
    "eq6 = sp.Eq(Vs,0)\n",
    "eq7 = sp.Eq(V_C3,Vs - Vb)\n",
    "eq8 = sp.Eq(V_C4,Vb - Vc)\n",
    "eq9 = sp.Eq(V_C5,Vc - Vout)\n",
    "eq10 = sp.Eq(Icc,(Vp - Vc)/R8)\n",
    "system_equations = [eq1,eq2,eq3,eq4,eq5,eq6,eq7,eq8,eq9,eq10]\n",
    "\n",
    "# Cell Output\n",
    "display(MD(\"---\"))\n",
    "display(MD(\"Resistors:\"))\n",
    "for element in resistors:\n",
    "    display(element)\n",
    "display(MD(\"---\"))\n",
    "display(MD(\"Conductances:\"))\n",
    "for element in conductances:\n",
    "    display(element)\n",
    "display(MD(\"---\"))\n",
    "display(MD(\"Capacitors:\"))\n",
    "for element in capacitors:\n",
    "    display(element)\n",
    "display(MD(\"---\"))\n",
    "display(MD(\"Nonlinear Currents:\"))\n",
    "for element in nonlinear_currents:\n",
    "    display(element)\n",
    "display(MD(\"---\"))\n",
    "display(MD(\"Controlling Voltages:\"))\n",
    "for element in controlling_voltages:\n",
    "    display(element)\n",
    "display(MD(\"---\"))\n",
    "display(MD(\"System Equations:\"))\n",
    "for eq in system_equations:\n",
    "    display(eq)\n",
    "display(MD(\"---\"))"
   ]
  },
  {
   "cell_type": "markdown",
   "metadata": {},
   "source": [
    "### Modified Nodal Analysis"
   ]
  },
  {
   "cell_type": "code",
   "execution_count": 3,
   "metadata": {},
   "outputs": [
    {
     "data": {
      "text/markdown": [
       "---"
      ],
      "text/plain": [
       "<IPython.core.display.Markdown object>"
      ]
     },
     "metadata": {},
     "output_type": "display_data"
    },
    {
     "data": {
      "text/markdown": [
       "Matrix G:"
      ],
      "text/plain": [
       "<IPython.core.display.Markdown object>"
      ]
     },
     "metadata": {},
     "output_type": "display_data"
    },
    {
     "data": {
      "text/latex": [
       "$\\displaystyle \\left[\\begin{matrix}\\frac{1}{R_{10}} & 0 & 0 & 0 & 0 & 0 & 0 & 0 & 0 & 0\\\\0 & 0 & \\frac{1}{R_{8}} & - \\frac{1}{R_{8}} - \\frac{1}{R_{7}} & \\frac{1}{R_{7}} & 0 & 0 & 0 & 0 & 0\\\\0 & 0 & 0 & 0 & 0 & \\frac{1}{R_{9}} & 0 & 0 & 0 & 0\\\\0 & 0 & 0 & \\frac{1}{R_{7}} & - \\frac{1}{R_{7}} - \\frac{1}{R_{6}} & 0 & 0 & 0 & 0 & 0\\\\0 & 0 & 1 & 0 & 0 & 0 & 0 & 0 & 0 & 0\\\\0 & 1 & 0 & 0 & 0 & 0 & 0 & 0 & 0 & 0\\\\0 & -1 & 0 & 0 & 1 & 0 & 0 & 1 & 0 & 0\\\\0 & 0 & 0 & 1 & -1 & 0 & 0 & 0 & 1 & 0\\\\1 & 0 & 0 & -1 & 0 & 0 & 0 & 0 & 0 & 1\\\\0 & 0 & - \\frac{1}{R_{8}} & \\frac{1}{R_{8}} & 0 & 0 & 1 & 0 & 0 & 0\\end{matrix}\\right]$"
      ],
      "text/plain": [
       "Matrix([\n",
       "[1/R_10,  0,      0,              0,              0,     0, 0, 0, 0, 0],\n",
       "[     0,  0,  1/R_8, -1/R_8 - 1/R_7,          1/R_7,     0, 0, 0, 0, 0],\n",
       "[     0,  0,      0,              0,              0, 1/R_9, 0, 0, 0, 0],\n",
       "[     0,  0,      0,          1/R_7, -1/R_7 - 1/R_6,     0, 0, 0, 0, 0],\n",
       "[     0,  0,      1,              0,              0,     0, 0, 0, 0, 0],\n",
       "[     0,  1,      0,              0,              0,     0, 0, 0, 0, 0],\n",
       "[     0, -1,      0,              0,              1,     0, 0, 1, 0, 0],\n",
       "[     0,  0,      0,              1,             -1,     0, 0, 0, 1, 0],\n",
       "[     1,  0,      0,             -1,              0,     0, 0, 0, 0, 1],\n",
       "[     0,  0, -1/R_8,          1/R_8,              0,     0, 1, 0, 0, 0]])"
      ]
     },
     "metadata": {},
     "output_type": "display_data"
    },
    {
     "data": {
      "text/markdown": [
       "Vector V:"
      ],
      "text/plain": [
       "<IPython.core.display.Markdown object>"
      ]
     },
     "metadata": {},
     "output_type": "display_data"
    },
    {
     "data": {
      "text/latex": [
       "$\\displaystyle \\left[\\begin{matrix}V_{out}\\\\V_{s}\\\\V_{p}\\\\V_{c}\\\\V_{b}\\\\V_{e}\\\\I_{CC}\\\\V_{C_{3}}\\\\V_{C_{4}}\\\\V_{C_{5}}\\end{matrix}\\right]$"
      ],
      "text/plain": [
       "Matrix([\n",
       "[    V_out],\n",
       "[      V_s],\n",
       "[      V_p],\n",
       "[      V_c],\n",
       "[      V_b],\n",
       "[      V_e],\n",
       "[     I_CC],\n",
       "[V_{C_{3}}],\n",
       "[V_{C_{4}}],\n",
       "[V_{C_{5}}]])"
      ]
     },
     "metadata": {},
     "output_type": "display_data"
    },
    {
     "data": {
      "text/markdown": [
       "Vector I:"
      ],
      "text/plain": [
       "<IPython.core.display.Markdown object>"
      ]
     },
     "metadata": {},
     "output_type": "display_data"
    },
    {
     "data": {
      "text/latex": [
       "$\\displaystyle \\left[\\begin{matrix}0\\\\I_{c}\\\\I_{e}\\\\I_{b}\\\\V_{CC}\\\\0\\\\0\\\\0\\\\0\\\\0\\end{matrix}\\right]$"
      ],
      "text/plain": [
       "Matrix([\n",
       "[   0],\n",
       "[ I_c],\n",
       "[ I_e],\n",
       "[ I_b],\n",
       "[V_CC],\n",
       "[   0],\n",
       "[   0],\n",
       "[   0],\n",
       "[   0],\n",
       "[   0]])"
      ]
     },
     "metadata": {},
     "output_type": "display_data"
    },
    {
     "data": {
      "text/markdown": [
       "---"
      ],
      "text/plain": [
       "<IPython.core.display.Markdown object>"
      ]
     },
     "metadata": {},
     "output_type": "display_data"
    },
    {
     "data": {
      "text/markdown": [
       "System Solution:"
      ],
      "text/plain": [
       "<IPython.core.display.Markdown object>"
      ]
     },
     "metadata": {},
     "output_type": "display_data"
    },
    {
     "data": {
      "text/latex": [
       "$\\displaystyle V_{out} = 0$"
      ],
      "text/plain": [
       "Eq(V_out, 0)"
      ]
     },
     "metadata": {},
     "output_type": "display_data"
    },
    {
     "data": {
      "text/latex": [
       "$\\displaystyle V_{s} = 0$"
      ],
      "text/plain": [
       "Eq(V_s, 0)"
      ]
     },
     "metadata": {},
     "output_type": "display_data"
    },
    {
     "data": {
      "text/latex": [
       "$\\displaystyle V_{p} = V_{CC}$"
      ],
      "text/plain": [
       "Eq(V_p, V_CC)"
      ]
     },
     "metadata": {},
     "output_type": "display_data"
    },
    {
     "data": {
      "text/latex": [
       "$\\displaystyle V_{c} = \\frac{- I_{b} R_{6} R_{8} - I_{c} R_{6} R_{8} - I_{c} R_{7} R_{8} + R_{6} V_{CC} + R_{7} V_{CC}}{R_{6} + R_{7} + R_{8}}$"
      ],
      "text/plain": [
       "Eq(V_c, (-I_b*R_6*R_8 - I_c*R_6*R_8 - I_c*R_7*R_8 + R_6*V_CC + R_7*V_CC)/(R_6 + R_7 + R_8))"
      ]
     },
     "metadata": {},
     "output_type": "display_data"
    },
    {
     "data": {
      "text/latex": [
       "$\\displaystyle V_{b} = \\frac{R_{6} \\left(- I_{b} R_{7} - I_{b} R_{8} - I_{c} R_{8} + V_{CC}\\right)}{R_{6} + R_{7} + R_{8}}$"
      ],
      "text/plain": [
       "Eq(V_b, R_6*(-I_b*R_7 - I_b*R_8 - I_c*R_8 + V_CC)/(R_6 + R_7 + R_8))"
      ]
     },
     "metadata": {},
     "output_type": "display_data"
    },
    {
     "data": {
      "text/latex": [
       "$\\displaystyle V_{e} = I_{e} R_{9}$"
      ],
      "text/plain": [
       "Eq(V_e, I_e*R_9)"
      ]
     },
     "metadata": {},
     "output_type": "display_data"
    },
    {
     "data": {
      "text/latex": [
       "$\\displaystyle I_{CC} = \\frac{I_{b} R_{6} + I_{c} R_{6} + I_{c} R_{7} + V_{CC}}{R_{6} + R_{7} + R_{8}}$"
      ],
      "text/plain": [
       "Eq(I_CC, (I_b*R_6 + I_c*R_6 + I_c*R_7 + V_CC)/(R_6 + R_7 + R_8))"
      ]
     },
     "metadata": {},
     "output_type": "display_data"
    },
    {
     "data": {
      "text/latex": [
       "$\\displaystyle V_{C_{3}} = \\frac{R_{6} \\left(I_{b} R_{7} + I_{b} R_{8} + I_{c} R_{8} - V_{CC}\\right)}{R_{6} + R_{7} + R_{8}}$"
      ],
      "text/plain": [
       "Eq(V_{C_{3}}, R_6*(I_b*R_7 + I_b*R_8 + I_c*R_8 - V_CC)/(R_6 + R_7 + R_8))"
      ]
     },
     "metadata": {},
     "output_type": "display_data"
    },
    {
     "data": {
      "text/latex": [
       "$\\displaystyle V_{C_{4}} = \\frac{R_{7} \\left(- I_{b} R_{6} + I_{c} R_{8} - V_{CC}\\right)}{R_{6} + R_{7} + R_{8}}$"
      ],
      "text/plain": [
       "Eq(V_{C_{4}}, R_7*(-I_b*R_6 + I_c*R_8 - V_CC)/(R_6 + R_7 + R_8))"
      ]
     },
     "metadata": {},
     "output_type": "display_data"
    },
    {
     "data": {
      "text/latex": [
       "$\\displaystyle V_{C_{5}} = \\frac{- I_{b} R_{6} R_{8} - I_{c} R_{6} R_{8} - I_{c} R_{7} R_{8} + R_{6} V_{CC} + R_{7} V_{CC}}{R_{6} + R_{7} + R_{8}}$"
      ],
      "text/plain": [
       "Eq(V_{C_{5}}, (-I_b*R_6*R_8 - I_c*R_6*R_8 - I_c*R_7*R_8 + R_6*V_CC + R_7*V_CC)/(R_6 + R_7 + R_8))"
      ]
     },
     "metadata": {},
     "output_type": "display_data"
    },
    {
     "data": {
      "text/markdown": [
       "---"
      ],
      "text/plain": [
       "<IPython.core.display.Markdown object>"
      ]
     },
     "metadata": {},
     "output_type": "display_data"
    }
   ],
   "source": [
    "# System Matrices (GV = I)\n",
    "G,I = sym.systemToMatrixForm(system_equations,V)\n",
    "\n",
    "# System Solution\n",
    "system_solution = sym.solveLinearSystem(G,I,V)\n",
    "V_eq = sym.formEquations(V,system_solution)\n",
    "\n",
    "# Cell Output\n",
    "display(MD(\"---\"))\n",
    "display(MD(\"Matrix G:\"))\n",
    "display(G)\n",
    "display(MD(\"Vector V:\"))\n",
    "display(sp.Matrix(V))\n",
    "display(MD(\"Vector I:\"))\n",
    "display(I)\n",
    "display(MD(\"---\"))\n",
    "display(MD(\"System Solution:\"))\n",
    "for eq in V_eq:\n",
    "    display(eq)\n",
    "display(MD(\"---\"))"
   ]
  },
  {
   "cell_type": "markdown",
   "metadata": {},
   "source": [
    "### State-Space Representation"
   ]
  },
  {
   "cell_type": "code",
   "execution_count": 4,
   "metadata": {},
   "outputs": [
    {
     "data": {
      "text/markdown": [
       "---"
      ],
      "text/plain": [
       "<IPython.core.display.Markdown object>"
      ]
     },
     "metadata": {},
     "output_type": "display_data"
    },
    {
     "data": {
      "text/markdown": [
       "Matrix Ax:"
      ],
      "text/plain": [
       "<IPython.core.display.Markdown object>"
      ]
     },
     "metadata": {},
     "output_type": "display_data"
    },
    {
     "data": {
      "text/latex": [
       "$\\displaystyle \\left[\\begin{matrix}- \\frac{R_{6}}{R_{6} + R_{7} + R_{8}}\\\\- \\frac{R_{7}}{R_{6} + R_{7} + R_{8}}\\\\\\frac{R_{6} + R_{7}}{R_{6} + R_{7} + R_{8}}\\end{matrix}\\right]$"
      ],
      "text/plain": [
       "Matrix([\n",
       "[       -R_6/(R_6 + R_7 + R_8)],\n",
       "[       -R_7/(R_6 + R_7 + R_8)],\n",
       "[(R_6 + R_7)/(R_6 + R_7 + R_8)]])"
      ]
     },
     "metadata": {},
     "output_type": "display_data"
    },
    {
     "data": {
      "text/markdown": [
       "Matrix Bx:"
      ],
      "text/plain": [
       "<IPython.core.display.Markdown object>"
      ]
     },
     "metadata": {},
     "output_type": "display_data"
    },
    {
     "data": {
      "text/latex": [
       "$\\displaystyle \\left[\\begin{matrix}\\frac{R_{6} \\left(R_{7} + R_{8}\\right)}{R_{6} + R_{7} + R_{8}} & \\frac{R_{6} R_{8}}{R_{6} + R_{7} + R_{8}}\\\\- \\frac{R_{6} R_{7}}{R_{6} + R_{7} + R_{8}} & \\frac{R_{7} R_{8}}{R_{6} + R_{7} + R_{8}}\\\\- \\frac{R_{6} R_{8}}{R_{6} + R_{7} + R_{8}} & \\frac{R_{8} \\left(- R_{6} - R_{7}\\right)}{R_{6} + R_{7} + R_{8}}\\end{matrix}\\right]$"
      ],
      "text/plain": [
       "Matrix([\n",
       "[R_6*(R_7 + R_8)/(R_6 + R_7 + R_8),          R_6*R_8/(R_6 + R_7 + R_8)],\n",
       "[       -R_6*R_7/(R_6 + R_7 + R_8),          R_7*R_8/(R_6 + R_7 + R_8)],\n",
       "[       -R_6*R_8/(R_6 + R_7 + R_8), R_8*(-R_6 - R_7)/(R_6 + R_7 + R_8)]])"
      ]
     },
     "metadata": {},
     "output_type": "display_data"
    },
    {
     "data": {
      "text/markdown": [
       "---"
      ],
      "text/plain": [
       "<IPython.core.display.Markdown object>"
      ]
     },
     "metadata": {},
     "output_type": "display_data"
    },
    {
     "data": {
      "text/markdown": [
       "Matrix Av:"
      ],
      "text/plain": [
       "<IPython.core.display.Markdown object>"
      ]
     },
     "metadata": {},
     "output_type": "display_data"
    },
    {
     "data": {
      "text/latex": [
       "$\\displaystyle \\left[\\begin{matrix}\\frac{R_{6}}{R_{6} + R_{7} + R_{8}}\\\\- \\frac{R_{7}}{R_{6} + R_{7} + R_{8}}\\end{matrix}\\right]$"
      ],
      "text/plain": [
       "Matrix([\n",
       "[ R_6/(R_6 + R_7 + R_8)],\n",
       "[-R_7/(R_6 + R_7 + R_8)]])"
      ]
     },
     "metadata": {},
     "output_type": "display_data"
    },
    {
     "data": {
      "text/markdown": [
       "Matrix Bv:"
      ],
      "text/plain": [
       "<IPython.core.display.Markdown object>"
      ]
     },
     "metadata": {},
     "output_type": "display_data"
    },
    {
     "data": {
      "text/latex": [
       "$\\displaystyle \\left[\\begin{matrix}\\frac{- R_{6} R_{7} - R_{6} R_{8} - R_{9} \\left(R_{6} + R_{7} + R_{8}\\right)}{R_{6} + R_{7} + R_{8}} & \\frac{- R_{6} R_{8} - R_{9} \\left(R_{6} + R_{7} + R_{8}\\right)}{R_{6} + R_{7} + R_{8}}\\\\- \\frac{R_{6} R_{7}}{R_{6} + R_{7} + R_{8}} & \\frac{R_{7} R_{8}}{R_{6} + R_{7} + R_{8}}\\end{matrix}\\right]$"
      ],
      "text/plain": [
       "Matrix([\n",
       "[(-R_6*R_7 - R_6*R_8 - R_9*(R_6 + R_7 + R_8))/(R_6 + R_7 + R_8), (-R_6*R_8 - R_9*(R_6 + R_7 + R_8))/(R_6 + R_7 + R_8)],\n",
       "[                                    -R_6*R_7/(R_6 + R_7 + R_8),                            R_7*R_8/(R_6 + R_7 + R_8)]])"
      ]
     },
     "metadata": {},
     "output_type": "display_data"
    },
    {
     "data": {
      "text/markdown": [
       "---"
      ],
      "text/plain": [
       "<IPython.core.display.Markdown object>"
      ]
     },
     "metadata": {},
     "output_type": "display_data"
    }
   ],
   "source": [
    "# Nonlinear Current Substitutions\n",
    "V_eq = [sym.substituteSymbols(eq,nonlinear_currents) for eq in V_eq]\n",
    "\n",
    "# State Matrices\n",
    "x_eq = sym.extractEquations(V_eq,x)\n",
    "Ax,Bx = sym.kMethodMatricesDC(x_eq,u,i)\n",
    "\n",
    "# Nonlinearity Matrices\n",
    "v_eq = []\n",
    "for symbol in v:\n",
    "    lhs = symbol\n",
    "    rhs = sym.substituteSymbols(lhs,controlling_voltages)\n",
    "    rhs = sym.substituteSymbols(rhs,sym.extractEquations(V_eq,rhs.free_symbols))\n",
    "    v_eq.append(sp.Eq(lhs,rhs))\n",
    "Av,Bv = sym.kMethodMatricesDC(v_eq,u,i)\n",
    "\n",
    "# Cell Output\n",
    "display(MD(\"---\"))\n",
    "display(MD(\"Matrix Ax:\"))\n",
    "display(Ax)\n",
    "display(MD(\"Matrix Bx:\"))\n",
    "display(Bx)\n",
    "display(MD(\"---\"))\n",
    "display(MD(\"Matrix Av:\"))\n",
    "display(Av)\n",
    "display(MD(\"Matrix Bv:\"))\n",
    "display(Bv)\n",
    "display(MD(\"---\"))"
   ]
  },
  {
   "cell_type": "code",
   "execution_count": 5,
   "metadata": {},
   "outputs": [
    {
     "data": {
      "text/markdown": [
       "---"
      ],
      "text/plain": [
       "<IPython.core.display.Markdown object>"
      ]
     },
     "metadata": {},
     "output_type": "display_data"
    },
    {
     "data": {
      "text/markdown": [
       "Matrix Ax (Evaluated):"
      ],
      "text/plain": [
       "<IPython.core.display.Markdown object>"
      ]
     },
     "metadata": {},
     "output_type": "display_data"
    },
    {
     "data": {
      "text/latex": [
       "$\\displaystyle \\left[\\begin{matrix}-0.172413793103448\\\\-0.810344827586207\\\\0.982758620689655\\end{matrix}\\right]$"
      ],
      "text/plain": [
       "Matrix([\n",
       "[-0.172413793103448],\n",
       "[-0.810344827586207],\n",
       "[ 0.982758620689655]])"
      ]
     },
     "metadata": {},
     "output_type": "display_data"
    },
    {
     "data": {
      "text/markdown": [
       "Matrix Bx (Evaluated):"
      ],
      "text/plain": [
       "<IPython.core.display.Markdown object>"
      ]
     },
     "metadata": {},
     "output_type": "display_data"
    },
    {
     "data": {
      "text/latex": [
       "$\\displaystyle \\left[\\begin{matrix}82758.6206896552 & 1724.13793103448\\\\-81034.4827586207 & 8103.44827586207\\\\-1724.13793103448 & -9827.58620689655\\end{matrix}\\right]$"
      ],
      "text/plain": [
       "Matrix([\n",
       "[ 82758.6206896552,  1724.13793103448],\n",
       "[-81034.4827586207,  8103.44827586207],\n",
       "[-1724.13793103448, -9827.58620689655]])"
      ]
     },
     "metadata": {},
     "output_type": "display_data"
    },
    {
     "data": {
      "text/markdown": [
       "---"
      ],
      "text/plain": [
       "<IPython.core.display.Markdown object>"
      ]
     },
     "metadata": {},
     "output_type": "display_data"
    },
    {
     "data": {
      "text/markdown": [
       "Matrix Av (Evaluated):"
      ],
      "text/plain": [
       "<IPython.core.display.Markdown object>"
      ]
     },
     "metadata": {},
     "output_type": "display_data"
    },
    {
     "data": {
      "text/latex": [
       "$\\displaystyle \\left[\\begin{matrix}0.172413793103448\\\\-0.810344827586207\\end{matrix}\\right]$"
      ],
      "text/plain": [
       "Matrix([\n",
       "[ 0.172413793103448],\n",
       "[-0.810344827586207]])"
      ]
     },
     "metadata": {},
     "output_type": "display_data"
    },
    {
     "data": {
      "text/markdown": [
       "Matrix Bv (Evaluated):"
      ],
      "text/plain": [
       "<IPython.core.display.Markdown object>"
      ]
     },
     "metadata": {},
     "output_type": "display_data"
    },
    {
     "data": {
      "text/latex": [
       "$\\displaystyle \\left[\\begin{matrix}-82780.6206896552 & -1746.13793103448\\\\-81034.4827586207 & 8103.44827586207\\end{matrix}\\right]$"
      ],
      "text/plain": [
       "Matrix([\n",
       "[-82780.6206896552, -1746.13793103448],\n",
       "[-81034.4827586207,  8103.44827586207]])"
      ]
     },
     "metadata": {},
     "output_type": "display_data"
    },
    {
     "data": {
      "text/markdown": [
       "---"
      ],
      "text/plain": [
       "<IPython.core.display.Markdown object>"
      ]
     },
     "metadata": {},
     "output_type": "display_data"
    }
   ],
   "source": [
    "# Evaluate Expressions\n",
    "substitutions = conductances + resistors + capacitors\n",
    "Ax_eval = sym.substituteSymbols(Ax,substitutions)\n",
    "Bx_eval = sym.substituteSymbols(Bx,substitutions)\n",
    "Av_eval = sym.substituteSymbols(Av,substitutions)\n",
    "Bv_eval = sym.substituteSymbols(Bv,substitutions)\n",
    "\n",
    "# Cell Output\n",
    "display(MD(\"---\"))\n",
    "display(MD(\"Matrix Ax (Evaluated):\"))\n",
    "display(Ax_eval)\n",
    "display(MD(\"Matrix Bx (Evaluated):\"))\n",
    "display(Bx_eval)\n",
    "display(MD(\"---\"))\n",
    "display(MD(\"Matrix Av (Evaluated):\"))\n",
    "display(Av_eval)\n",
    "display(MD(\"Matrix Bv (Evaluated):\"))\n",
    "display(Bv_eval)\n",
    "display(MD(\"---\"))"
   ]
  },
  {
   "cell_type": "markdown",
   "metadata": {},
   "source": [
    "### Execution Conclusion"
   ]
  },
  {
   "cell_type": "code",
   "execution_count": 6,
   "metadata": {},
   "outputs": [
    {
     "name": "stdout",
     "output_type": "stream",
     "text": [
      "====================================================================================================\n",
      "                          Execution Runtime: 2.387 s | 25/06/2025 17:30:25\n",
      "====================================================================================================\n"
     ]
    }
   ],
   "source": [
    "# End Timer\n",
    "runtime = utils.calculateElapsedTime(start_time,unit = 's')\n",
    "utils.printFooter(runtime,line_break = False)"
   ]
  }
 ],
 "metadata": {
  "kernelspec": {
   "display_name": "MTA-VAM",
   "language": "python",
   "name": "python3"
  },
  "language_info": {
   "codemirror_mode": {
    "name": "ipython",
    "version": 3
   },
   "file_extension": ".py",
   "mimetype": "text/x-python",
   "name": "python",
   "nbconvert_exporter": "python",
   "pygments_lexer": "ipython3",
   "version": "3.9.7"
  }
 },
 "nbformat": 4,
 "nbformat_minor": 2
}
